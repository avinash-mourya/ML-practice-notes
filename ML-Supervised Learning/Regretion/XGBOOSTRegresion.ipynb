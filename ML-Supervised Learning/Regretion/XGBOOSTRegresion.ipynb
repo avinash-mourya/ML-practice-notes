{
 "cells": [
  {
   "cell_type": "code",
   "execution_count": 1,
   "metadata": {},
   "outputs": [],
   "source": [
    "import numpy as np\n",
    "import pandas as pd\n",
    "import matplotlib.pyplot as plt"
   ]
  },
  {
   "cell_type": "code",
   "execution_count": 2,
   "metadata": {},
   "outputs": [],
   "source": [
    "data = pd.read_csv(\"data.csv\")\n",
    "data.dropna(inplace=True)"
   ]
  },
  {
   "cell_type": "code",
   "execution_count": 3,
   "metadata": {},
   "outputs": [
    {
     "data": {
      "text/html": [
       "<div>\n",
       "<style scoped>\n",
       "    .dataframe tbody tr th:only-of-type {\n",
       "        vertical-align: middle;\n",
       "    }\n",
       "\n",
       "    .dataframe tbody tr th {\n",
       "        vertical-align: top;\n",
       "    }\n",
       "\n",
       "    .dataframe thead th {\n",
       "        text-align: right;\n",
       "    }\n",
       "</style>\n",
       "<table border=\"1\" class=\"dataframe\">\n",
       "  <thead>\n",
       "    <tr style=\"text-align: right;\">\n",
       "      <th></th>\n",
       "      <th>CRIM</th>\n",
       "      <th>ZN</th>\n",
       "      <th>INDUS</th>\n",
       "      <th>CHAS</th>\n",
       "      <th>NOX</th>\n",
       "      <th>RM</th>\n",
       "      <th>AGE</th>\n",
       "      <th>DIS</th>\n",
       "      <th>RAD</th>\n",
       "      <th>TAX</th>\n",
       "      <th>PTRATIO</th>\n",
       "      <th>B</th>\n",
       "      <th>LSTAT</th>\n",
       "      <th>MEDV</th>\n",
       "    </tr>\n",
       "  </thead>\n",
       "  <tbody>\n",
       "    <tr>\n",
       "      <th>count</th>\n",
       "      <td>501.000000</td>\n",
       "      <td>501.000000</td>\n",
       "      <td>501.000000</td>\n",
       "      <td>501.000000</td>\n",
       "      <td>501.000000</td>\n",
       "      <td>501.000000</td>\n",
       "      <td>501.000000</td>\n",
       "      <td>501.000000</td>\n",
       "      <td>501.000000</td>\n",
       "      <td>501.000000</td>\n",
       "      <td>501.000000</td>\n",
       "      <td>501.000000</td>\n",
       "      <td>501.000000</td>\n",
       "      <td>501.000000</td>\n",
       "    </tr>\n",
       "    <tr>\n",
       "      <th>mean</th>\n",
       "      <td>3.647414</td>\n",
       "      <td>11.402196</td>\n",
       "      <td>11.160619</td>\n",
       "      <td>0.069860</td>\n",
       "      <td>0.555151</td>\n",
       "      <td>6.284341</td>\n",
       "      <td>68.513373</td>\n",
       "      <td>3.786423</td>\n",
       "      <td>9.596806</td>\n",
       "      <td>409.143713</td>\n",
       "      <td>18.453493</td>\n",
       "      <td>356.298523</td>\n",
       "      <td>12.643752</td>\n",
       "      <td>22.561277</td>\n",
       "    </tr>\n",
       "    <tr>\n",
       "      <th>std</th>\n",
       "      <td>8.637688</td>\n",
       "      <td>23.414214</td>\n",
       "      <td>6.857123</td>\n",
       "      <td>0.255166</td>\n",
       "      <td>0.116186</td>\n",
       "      <td>0.705587</td>\n",
       "      <td>28.212221</td>\n",
       "      <td>2.103327</td>\n",
       "      <td>8.735509</td>\n",
       "      <td>169.021216</td>\n",
       "      <td>2.166327</td>\n",
       "      <td>91.672055</td>\n",
       "      <td>7.162746</td>\n",
       "      <td>9.232435</td>\n",
       "    </tr>\n",
       "    <tr>\n",
       "      <th>min</th>\n",
       "      <td>0.006320</td>\n",
       "      <td>0.000000</td>\n",
       "      <td>0.460000</td>\n",
       "      <td>0.000000</td>\n",
       "      <td>0.385000</td>\n",
       "      <td>3.561000</td>\n",
       "      <td>2.900000</td>\n",
       "      <td>1.129600</td>\n",
       "      <td>1.000000</td>\n",
       "      <td>187.000000</td>\n",
       "      <td>12.600000</td>\n",
       "      <td>0.320000</td>\n",
       "      <td>1.730000</td>\n",
       "      <td>5.000000</td>\n",
       "    </tr>\n",
       "    <tr>\n",
       "      <th>25%</th>\n",
       "      <td>0.081990</td>\n",
       "      <td>0.000000</td>\n",
       "      <td>5.190000</td>\n",
       "      <td>0.000000</td>\n",
       "      <td>0.449000</td>\n",
       "      <td>5.884000</td>\n",
       "      <td>45.000000</td>\n",
       "      <td>2.088200</td>\n",
       "      <td>4.000000</td>\n",
       "      <td>279.000000</td>\n",
       "      <td>17.400000</td>\n",
       "      <td>375.210000</td>\n",
       "      <td>6.920000</td>\n",
       "      <td>17.000000</td>\n",
       "    </tr>\n",
       "    <tr>\n",
       "      <th>50%</th>\n",
       "      <td>0.261690</td>\n",
       "      <td>0.000000</td>\n",
       "      <td>9.690000</td>\n",
       "      <td>0.000000</td>\n",
       "      <td>0.538000</td>\n",
       "      <td>6.208000</td>\n",
       "      <td>77.700000</td>\n",
       "      <td>3.182700</td>\n",
       "      <td>5.000000</td>\n",
       "      <td>330.000000</td>\n",
       "      <td>19.000000</td>\n",
       "      <td>391.340000</td>\n",
       "      <td>11.380000</td>\n",
       "      <td>21.200000</td>\n",
       "    </tr>\n",
       "    <tr>\n",
       "      <th>75%</th>\n",
       "      <td>3.693110</td>\n",
       "      <td>12.500000</td>\n",
       "      <td>18.100000</td>\n",
       "      <td>0.000000</td>\n",
       "      <td>0.624000</td>\n",
       "      <td>6.625000</td>\n",
       "      <td>94.000000</td>\n",
       "      <td>5.118000</td>\n",
       "      <td>24.000000</td>\n",
       "      <td>666.000000</td>\n",
       "      <td>20.200000</td>\n",
       "      <td>396.230000</td>\n",
       "      <td>16.940000</td>\n",
       "      <td>25.000000</td>\n",
       "    </tr>\n",
       "    <tr>\n",
       "      <th>max</th>\n",
       "      <td>88.976200</td>\n",
       "      <td>100.000000</td>\n",
       "      <td>27.740000</td>\n",
       "      <td>1.000000</td>\n",
       "      <td>0.871000</td>\n",
       "      <td>8.780000</td>\n",
       "      <td>100.000000</td>\n",
       "      <td>12.126500</td>\n",
       "      <td>24.000000</td>\n",
       "      <td>711.000000</td>\n",
       "      <td>22.000000</td>\n",
       "      <td>396.900000</td>\n",
       "      <td>37.970000</td>\n",
       "      <td>50.000000</td>\n",
       "    </tr>\n",
       "  </tbody>\n",
       "</table>\n",
       "</div>"
      ],
      "text/plain": [
       "             CRIM          ZN       INDUS        CHAS         NOX          RM  \\\n",
       "count  501.000000  501.000000  501.000000  501.000000  501.000000  501.000000   \n",
       "mean     3.647414   11.402196   11.160619    0.069860    0.555151    6.284341   \n",
       "std      8.637688   23.414214    6.857123    0.255166    0.116186    0.705587   \n",
       "min      0.006320    0.000000    0.460000    0.000000    0.385000    3.561000   \n",
       "25%      0.081990    0.000000    5.190000    0.000000    0.449000    5.884000   \n",
       "50%      0.261690    0.000000    9.690000    0.000000    0.538000    6.208000   \n",
       "75%      3.693110   12.500000   18.100000    0.000000    0.624000    6.625000   \n",
       "max     88.976200  100.000000   27.740000    1.000000    0.871000    8.780000   \n",
       "\n",
       "              AGE         DIS         RAD         TAX     PTRATIO           B  \\\n",
       "count  501.000000  501.000000  501.000000  501.000000  501.000000  501.000000   \n",
       "mean    68.513373    3.786423    9.596806  409.143713   18.453493  356.298523   \n",
       "std     28.212221    2.103327    8.735509  169.021216    2.166327   91.672055   \n",
       "min      2.900000    1.129600    1.000000  187.000000   12.600000    0.320000   \n",
       "25%     45.000000    2.088200    4.000000  279.000000   17.400000  375.210000   \n",
       "50%     77.700000    3.182700    5.000000  330.000000   19.000000  391.340000   \n",
       "75%     94.000000    5.118000   24.000000  666.000000   20.200000  396.230000   \n",
       "max    100.000000   12.126500   24.000000  711.000000   22.000000  396.900000   \n",
       "\n",
       "            LSTAT        MEDV  \n",
       "count  501.000000  501.000000  \n",
       "mean    12.643752   22.561277  \n",
       "std      7.162746    9.232435  \n",
       "min      1.730000    5.000000  \n",
       "25%      6.920000   17.000000  \n",
       "50%     11.380000   21.200000  \n",
       "75%     16.940000   25.000000  \n",
       "max     37.970000   50.000000  "
      ]
     },
     "execution_count": 3,
     "metadata": {},
     "output_type": "execute_result"
    }
   ],
   "source": [
    "data.describe()"
   ]
  },
  {
   "cell_type": "code",
   "execution_count": 4,
   "metadata": {
    "scrolled": true
   },
   "outputs": [
    {
     "data": {
      "text/html": [
       "<div>\n",
       "<style scoped>\n",
       "    .dataframe tbody tr th:only-of-type {\n",
       "        vertical-align: middle;\n",
       "    }\n",
       "\n",
       "    .dataframe tbody tr th {\n",
       "        vertical-align: top;\n",
       "    }\n",
       "\n",
       "    .dataframe thead th {\n",
       "        text-align: right;\n",
       "    }\n",
       "</style>\n",
       "<table border=\"1\" class=\"dataframe\">\n",
       "  <thead>\n",
       "    <tr style=\"text-align: right;\">\n",
       "      <th></th>\n",
       "      <th>CRIM</th>\n",
       "      <th>ZN</th>\n",
       "      <th>INDUS</th>\n",
       "      <th>CHAS</th>\n",
       "      <th>NOX</th>\n",
       "      <th>RM</th>\n",
       "      <th>AGE</th>\n",
       "      <th>DIS</th>\n",
       "      <th>RAD</th>\n",
       "      <th>TAX</th>\n",
       "      <th>PTRATIO</th>\n",
       "      <th>B</th>\n",
       "      <th>LSTAT</th>\n",
       "      <th>MEDV</th>\n",
       "    </tr>\n",
       "  </thead>\n",
       "  <tbody>\n",
       "    <tr>\n",
       "      <th>CRIM</th>\n",
       "      <td>1.000000</td>\n",
       "      <td>-0.201470</td>\n",
       "      <td>0.407544</td>\n",
       "      <td>-0.057032</td>\n",
       "      <td>0.420611</td>\n",
       "      <td>-0.219433</td>\n",
       "      <td>0.354739</td>\n",
       "      <td>-0.380572</td>\n",
       "      <td>0.624932</td>\n",
       "      <td>0.582243</td>\n",
       "      <td>0.291731</td>\n",
       "      <td>-0.384064</td>\n",
       "      <td>0.457304</td>\n",
       "      <td>-0.390251</td>\n",
       "    </tr>\n",
       "    <tr>\n",
       "      <th>ZN</th>\n",
       "      <td>-0.201470</td>\n",
       "      <td>1.000000</td>\n",
       "      <td>-0.536624</td>\n",
       "      <td>-0.043209</td>\n",
       "      <td>-0.518108</td>\n",
       "      <td>0.311173</td>\n",
       "      <td>-0.569695</td>\n",
       "      <td>0.665634</td>\n",
       "      <td>-0.314530</td>\n",
       "      <td>-0.315991</td>\n",
       "      <td>-0.392956</td>\n",
       "      <td>0.176529</td>\n",
       "      <td>-0.413820</td>\n",
       "      <td>0.360031</td>\n",
       "    </tr>\n",
       "    <tr>\n",
       "      <th>INDUS</th>\n",
       "      <td>0.407544</td>\n",
       "      <td>-0.536624</td>\n",
       "      <td>1.000000</td>\n",
       "      <td>0.062351</td>\n",
       "      <td>0.762937</td>\n",
       "      <td>-0.394193</td>\n",
       "      <td>0.646157</td>\n",
       "      <td>-0.709741</td>\n",
       "      <td>0.597721</td>\n",
       "      <td>0.720800</td>\n",
       "      <td>0.382633</td>\n",
       "      <td>-0.357817</td>\n",
       "      <td>0.605595</td>\n",
       "      <td>-0.486625</td>\n",
       "    </tr>\n",
       "    <tr>\n",
       "      <th>CHAS</th>\n",
       "      <td>-0.057032</td>\n",
       "      <td>-0.043209</td>\n",
       "      <td>0.062351</td>\n",
       "      <td>1.000000</td>\n",
       "      <td>0.090371</td>\n",
       "      <td>0.091468</td>\n",
       "      <td>0.087384</td>\n",
       "      <td>-0.098696</td>\n",
       "      <td>-0.008872</td>\n",
       "      <td>-0.037146</td>\n",
       "      <td>-0.121830</td>\n",
       "      <td>0.049972</td>\n",
       "      <td>-0.053698</td>\n",
       "      <td>0.174679</td>\n",
       "    </tr>\n",
       "    <tr>\n",
       "      <th>NOX</th>\n",
       "      <td>0.420611</td>\n",
       "      <td>-0.518108</td>\n",
       "      <td>0.762937</td>\n",
       "      <td>0.090371</td>\n",
       "      <td>1.000000</td>\n",
       "      <td>-0.302751</td>\n",
       "      <td>0.732899</td>\n",
       "      <td>-0.771108</td>\n",
       "      <td>0.611942</td>\n",
       "      <td>0.666959</td>\n",
       "      <td>0.188830</td>\n",
       "      <td>-0.379640</td>\n",
       "      <td>0.591749</td>\n",
       "      <td>-0.428812</td>\n",
       "    </tr>\n",
       "    <tr>\n",
       "      <th>RM</th>\n",
       "      <td>-0.219433</td>\n",
       "      <td>0.311173</td>\n",
       "      <td>-0.394193</td>\n",
       "      <td>0.091468</td>\n",
       "      <td>-0.302751</td>\n",
       "      <td>1.000000</td>\n",
       "      <td>-0.240286</td>\n",
       "      <td>0.203507</td>\n",
       "      <td>-0.210718</td>\n",
       "      <td>-0.292794</td>\n",
       "      <td>-0.357612</td>\n",
       "      <td>0.128107</td>\n",
       "      <td>-0.615721</td>\n",
       "      <td>0.696169</td>\n",
       "    </tr>\n",
       "    <tr>\n",
       "      <th>AGE</th>\n",
       "      <td>0.354739</td>\n",
       "      <td>-0.569695</td>\n",
       "      <td>0.646157</td>\n",
       "      <td>0.087384</td>\n",
       "      <td>0.732899</td>\n",
       "      <td>-0.240286</td>\n",
       "      <td>1.000000</td>\n",
       "      <td>-0.751500</td>\n",
       "      <td>0.460090</td>\n",
       "      <td>0.508338</td>\n",
       "      <td>0.264496</td>\n",
       "      <td>-0.275366</td>\n",
       "      <td>0.601124</td>\n",
       "      <td>-0.375437</td>\n",
       "    </tr>\n",
       "    <tr>\n",
       "      <th>DIS</th>\n",
       "      <td>-0.380572</td>\n",
       "      <td>0.665634</td>\n",
       "      <td>-0.709741</td>\n",
       "      <td>-0.098696</td>\n",
       "      <td>-0.771108</td>\n",
       "      <td>0.203507</td>\n",
       "      <td>-0.751500</td>\n",
       "      <td>1.000000</td>\n",
       "      <td>-0.497970</td>\n",
       "      <td>-0.534763</td>\n",
       "      <td>-0.231444</td>\n",
       "      <td>0.291847</td>\n",
       "      <td>-0.501168</td>\n",
       "      <td>0.251709</td>\n",
       "    </tr>\n",
       "    <tr>\n",
       "      <th>RAD</th>\n",
       "      <td>0.624932</td>\n",
       "      <td>-0.314530</td>\n",
       "      <td>0.597721</td>\n",
       "      <td>-0.008872</td>\n",
       "      <td>0.611942</td>\n",
       "      <td>-0.210718</td>\n",
       "      <td>0.460090</td>\n",
       "      <td>-0.497970</td>\n",
       "      <td>1.000000</td>\n",
       "      <td>0.910911</td>\n",
       "      <td>0.467820</td>\n",
       "      <td>-0.443338</td>\n",
       "      <td>0.491477</td>\n",
       "      <td>-0.384730</td>\n",
       "    </tr>\n",
       "    <tr>\n",
       "      <th>TAX</th>\n",
       "      <td>0.582243</td>\n",
       "      <td>-0.315991</td>\n",
       "      <td>0.720800</td>\n",
       "      <td>-0.037146</td>\n",
       "      <td>0.666959</td>\n",
       "      <td>-0.292794</td>\n",
       "      <td>0.508338</td>\n",
       "      <td>-0.534763</td>\n",
       "      <td>0.910911</td>\n",
       "      <td>1.000000</td>\n",
       "      <td>0.462718</td>\n",
       "      <td>-0.440891</td>\n",
       "      <td>0.545687</td>\n",
       "      <td>-0.471253</td>\n",
       "    </tr>\n",
       "    <tr>\n",
       "      <th>PTRATIO</th>\n",
       "      <td>0.291731</td>\n",
       "      <td>-0.392956</td>\n",
       "      <td>0.382633</td>\n",
       "      <td>-0.121830</td>\n",
       "      <td>0.188830</td>\n",
       "      <td>-0.357612</td>\n",
       "      <td>0.264496</td>\n",
       "      <td>-0.231444</td>\n",
       "      <td>0.467820</td>\n",
       "      <td>0.462718</td>\n",
       "      <td>1.000000</td>\n",
       "      <td>-0.178813</td>\n",
       "      <td>0.378862</td>\n",
       "      <td>-0.511897</td>\n",
       "    </tr>\n",
       "    <tr>\n",
       "      <th>B</th>\n",
       "      <td>-0.384064</td>\n",
       "      <td>0.176529</td>\n",
       "      <td>-0.357817</td>\n",
       "      <td>0.049972</td>\n",
       "      <td>-0.379640</td>\n",
       "      <td>0.128107</td>\n",
       "      <td>-0.275366</td>\n",
       "      <td>0.291847</td>\n",
       "      <td>-0.443338</td>\n",
       "      <td>-0.440891</td>\n",
       "      <td>-0.178813</td>\n",
       "      <td>1.000000</td>\n",
       "      <td>-0.367588</td>\n",
       "      <td>0.335387</td>\n",
       "    </tr>\n",
       "    <tr>\n",
       "      <th>LSTAT</th>\n",
       "      <td>0.457304</td>\n",
       "      <td>-0.413820</td>\n",
       "      <td>0.605595</td>\n",
       "      <td>-0.053698</td>\n",
       "      <td>0.591749</td>\n",
       "      <td>-0.615721</td>\n",
       "      <td>0.601124</td>\n",
       "      <td>-0.501168</td>\n",
       "      <td>0.491477</td>\n",
       "      <td>0.545687</td>\n",
       "      <td>0.378862</td>\n",
       "      <td>-0.367588</td>\n",
       "      <td>1.000000</td>\n",
       "      <td>-0.737720</td>\n",
       "    </tr>\n",
       "    <tr>\n",
       "      <th>MEDV</th>\n",
       "      <td>-0.390251</td>\n",
       "      <td>0.360031</td>\n",
       "      <td>-0.486625</td>\n",
       "      <td>0.174679</td>\n",
       "      <td>-0.428812</td>\n",
       "      <td>0.696169</td>\n",
       "      <td>-0.375437</td>\n",
       "      <td>0.251709</td>\n",
       "      <td>-0.384730</td>\n",
       "      <td>-0.471253</td>\n",
       "      <td>-0.511897</td>\n",
       "      <td>0.335387</td>\n",
       "      <td>-0.737720</td>\n",
       "      <td>1.000000</td>\n",
       "    </tr>\n",
       "  </tbody>\n",
       "</table>\n",
       "</div>"
      ],
      "text/plain": [
       "             CRIM        ZN     INDUS      CHAS       NOX        RM       AGE  \\\n",
       "CRIM     1.000000 -0.201470  0.407544 -0.057032  0.420611 -0.219433  0.354739   \n",
       "ZN      -0.201470  1.000000 -0.536624 -0.043209 -0.518108  0.311173 -0.569695   \n",
       "INDUS    0.407544 -0.536624  1.000000  0.062351  0.762937 -0.394193  0.646157   \n",
       "CHAS    -0.057032 -0.043209  0.062351  1.000000  0.090371  0.091468  0.087384   \n",
       "NOX      0.420611 -0.518108  0.762937  0.090371  1.000000 -0.302751  0.732899   \n",
       "RM      -0.219433  0.311173 -0.394193  0.091468 -0.302751  1.000000 -0.240286   \n",
       "AGE      0.354739 -0.569695  0.646157  0.087384  0.732899 -0.240286  1.000000   \n",
       "DIS     -0.380572  0.665634 -0.709741 -0.098696 -0.771108  0.203507 -0.751500   \n",
       "RAD      0.624932 -0.314530  0.597721 -0.008872  0.611942 -0.210718  0.460090   \n",
       "TAX      0.582243 -0.315991  0.720800 -0.037146  0.666959 -0.292794  0.508338   \n",
       "PTRATIO  0.291731 -0.392956  0.382633 -0.121830  0.188830 -0.357612  0.264496   \n",
       "B       -0.384064  0.176529 -0.357817  0.049972 -0.379640  0.128107 -0.275366   \n",
       "LSTAT    0.457304 -0.413820  0.605595 -0.053698  0.591749 -0.615721  0.601124   \n",
       "MEDV    -0.390251  0.360031 -0.486625  0.174679 -0.428812  0.696169 -0.375437   \n",
       "\n",
       "              DIS       RAD       TAX   PTRATIO         B     LSTAT      MEDV  \n",
       "CRIM    -0.380572  0.624932  0.582243  0.291731 -0.384064  0.457304 -0.390251  \n",
       "ZN       0.665634 -0.314530 -0.315991 -0.392956  0.176529 -0.413820  0.360031  \n",
       "INDUS   -0.709741  0.597721  0.720800  0.382633 -0.357817  0.605595 -0.486625  \n",
       "CHAS    -0.098696 -0.008872 -0.037146 -0.121830  0.049972 -0.053698  0.174679  \n",
       "NOX     -0.771108  0.611942  0.666959  0.188830 -0.379640  0.591749 -0.428812  \n",
       "RM       0.203507 -0.210718 -0.292794 -0.357612  0.128107 -0.615721  0.696169  \n",
       "AGE     -0.751500  0.460090  0.508338  0.264496 -0.275366  0.601124 -0.375437  \n",
       "DIS      1.000000 -0.497970 -0.534763 -0.231444  0.291847 -0.501168  0.251709  \n",
       "RAD     -0.497970  1.000000  0.910911  0.467820 -0.443338  0.491477 -0.384730  \n",
       "TAX     -0.534763  0.910911  1.000000  0.462718 -0.440891  0.545687 -0.471253  \n",
       "PTRATIO -0.231444  0.467820  0.462718  1.000000 -0.178813  0.378862 -0.511897  \n",
       "B        0.291847 -0.443338 -0.440891 -0.178813  1.000000 -0.367588  0.335387  \n",
       "LSTAT   -0.501168  0.491477  0.545687  0.378862 -0.367588  1.000000 -0.737720  \n",
       "MEDV     0.251709 -0.384730 -0.471253 -0.511897  0.335387 -0.737720  1.000000  "
      ]
     },
     "execution_count": 4,
     "metadata": {},
     "output_type": "execute_result"
    }
   ],
   "source": [
    "data.corr()"
   ]
  },
  {
   "cell_type": "code",
   "execution_count": 5,
   "metadata": {},
   "outputs": [
    {
     "data": {
      "text/plain": [
       "<matplotlib.image.AxesImage at 0x1e555dd5710>"
      ]
     },
     "execution_count": 5,
     "metadata": {},
     "output_type": "execute_result"
    },
    {
     "data": {
      "image/png": "[encoded data removed]",
      "text/plain": [
       "<Figure size 288x288 with 1 Axes>"
      ]
     },
     "metadata": {
      "needs_background": "light"
     },
     "output_type": "display_data"
    }
   ],
   "source": [
    "plt.matshow(data.corr(),fignum=7)"
   ]
  },
  {
   "cell_type": "code",
   "execution_count": 6,
   "metadata": {},
   "outputs": [],
   "source": [
    "X = data.iloc[:,0:13].values\n",
    "Y = data.iloc[:,13].values"
   ]
  },
  {
   "cell_type": "code",
   "execution_count": 7,
   "metadata": {},
   "outputs": [],
   "source": [
    "from sklearn.model_selection import train_test_split\n",
    "train_x,test_x,train_y,test_y = train_test_split(X,Y,test_size=0.20,random_state=5)"
   ]
  },
  {
   "cell_type": "code",
   "execution_count": 8,
   "metadata": {},
   "outputs": [],
   "source": [
    "from sklearn.preprocessing import StandardScaler"
   ]
  },
  {
   "cell_type": "code",
   "execution_count": 9,
   "metadata": {},
   "outputs": [],
   "source": [
    "sc = StandardScaler()\n",
    "train_x = sc.fit_transform(train_x)\n",
    "test_x = sc.fit_transform(test_x)"
   ]
  },
  {
   "cell_type": "code",
   "execution_count": 10,
   "metadata": {},
   "outputs": [
    {
     "data": {
      "text/plain": [
       "array([[-0.34740441,  0.38579624, -1.03456913, ..., -2.51821768,\n",
       "         0.28149458, -0.73770601],\n",
       "       [-0.41005348,  3.62053278, -1.22481031, ..., -1.72935325,\n",
       "         0.35337391, -1.37076619],\n",
       "       [-0.17045964, -0.47680017,  1.26749659, ..., -1.72935325,\n",
       "        -2.29312494,  0.54090897],\n",
       "       ...,\n",
       "       [-0.38712723, -0.47680017, -0.1910191 , ...,  0.35881731,\n",
       "         0.42931963,  0.21882572],\n",
       "       [-0.37013651, -0.47680017, -0.0582927 , ...,  0.08039457,\n",
       "         0.4094661 ,  1.55852546],\n",
       "       [ 0.09740455, -0.47680017,  1.0492354 , ...,  0.82285521,\n",
       "         0.16213423, -0.68911586]])"
      ]
     },
     "execution_count": 10,
     "metadata": {},
     "output_type": "execute_result"
    }
   ],
   "source": [
    "train_x"
   ]
  },
  {
   "cell_type": "code",
   "execution_count": 11,
   "metadata": {},
   "outputs": [],
   "source": [
    "from xgboost import XGBRegressor"
   ]
  },
  {
   "cell_type": "code",
   "execution_count": 12,
   "metadata": {},
   "outputs": [
    {
     "data": {
      "text/plain": [
       "XGBRegressor(base_score=0.5, booster='gbtree', colsample_bylevel=1,\n",
       "             colsample_bynode=1, colsample_bytree=1, gamma=0,\n",
       "             importance_type='gain', learning_rate=0.1, max_delta_step=0,\n",
       "             max_depth=3, min_child_weight=1, missing=None, n_estimators=100,\n",
       "             n_jobs=1, nthread=None, objective='reg:squarederror',\n",
       "             random_state=0, reg_alpha=0, reg_lambda=1, scale_pos_weight=1,\n",
       "             seed=None, silent=None, subsample=1, verbosity=1)"
      ]
     },
     "execution_count": 12,
     "metadata": {},
     "output_type": "execute_result"
    }
   ],
   "source": [
    "xgbr = XGBRegressor(objective='reg:squarederror',missing=np.nan)\n",
    "xgbr.fit(train_x,train_y)"
   ]
  },
  {
   "cell_type": "code",
   "execution_count": 13,
   "metadata": {},
   "outputs": [],
   "source": [
    "pred_y = xgbr.predict(test_x)"
   ]
  },
  {
   "cell_type": "code",
   "execution_count": 14,
   "metadata": {},
   "outputs": [],
   "source": [
    "from sklearn.metrics import mean_squared_error,r2_score"
   ]
  },
  {
   "cell_type": "code",
   "execution_count": 15,
   "metadata": {},
   "outputs": [
    {
     "data": {
      "text/plain": [
       "9.134704581656996"
      ]
     },
     "execution_count": 15,
     "metadata": {},
     "output_type": "execute_result"
    }
   ],
   "source": [
    "mean_squared_error(test_y,pred_y)"
   ]
  },
  {
   "cell_type": "code",
   "execution_count": 16,
   "metadata": {},
   "outputs": [
    {
     "data": {
      "text/plain": [
       "0.883751082155986"
      ]
     },
     "execution_count": 16,
     "metadata": {},
     "output_type": "execute_result"
    }
   ],
   "source": [
    "r2_score(test_y,pred_y)"
   ]
  },
  {
   "cell_type": "markdown",
   "metadata": {},
   "source": [
    "# Using Dimension Reduction"
   ]
  },
  {
   "cell_type": "code",
   "execution_count": 17,
   "metadata": {},
   "outputs": [],
   "source": [
    "from sklearn.decomposition import PCA"
   ]
  },
  {
   "cell_type": "code",
   "execution_count": 18,
   "metadata": {},
   "outputs": [
    {
     "data": {
      "text/plain": [
       "array([8.05404734e-01, 1.63542704e-01, 2.12843961e-02, 6.95319840e-03,\n",
       "       1.30323221e-03, 7.26395485e-04, 4.14495196e-04, 2.47790504e-04])"
      ]
     },
     "execution_count": 18,
     "metadata": {},
     "output_type": "execute_result"
    }
   ],
   "source": [
    "pca = PCA(n_components=8,random_state=5)\n",
    "pca.fit(X)\n",
    "pca.explained_variance_ratio_"
   ]
  },
  {
   "cell_type": "code",
   "execution_count": 19,
   "metadata": {},
   "outputs": [],
   "source": [
    "train_x = pca.transform(train_x)\n",
    "test_x = pca.transform(test_x)"
   ]
  },
  {
   "cell_type": "code",
   "execution_count": 20,
   "metadata": {},
   "outputs": [
    {
     "data": {
      "text/plain": [
       "array([[-292.24542803,  460.77105868,   17.13289734, ...,   -7.79723514,\n",
       "           1.43671335,   -3.88715992],\n",
       "       [-292.76902855,  460.77731274,   20.23748449, ...,   -8.0352086 ,\n",
       "           1.51411413,   -3.86063552],\n",
       "       [-290.46774229,  462.98010973,   15.45953724, ...,   -5.79335292,\n",
       "           2.7298847 ,   -4.89430656],\n",
       "       ...,\n",
       "       [-291.43186883,  460.39936405,   16.10194229, ...,   -6.42232679,\n",
       "           1.41203278,   -4.41796272],\n",
       "       [-292.01800951,  460.62281815,   15.68604911, ...,   -5.13392001,\n",
       "           1.10548967,   -4.25693963],\n",
       "       [-289.66518504,  460.15193138,   16.00460808, ...,   -7.37235661,\n",
       "           1.89373406,   -6.70323092]])"
      ]
     },
     "execution_count": 20,
     "metadata": {},
     "output_type": "execute_result"
    }
   ],
   "source": [
    "train_x"
   ]
  },
  {
   "cell_type": "code",
   "execution_count": 21,
   "metadata": {
    "scrolled": true
   },
   "outputs": [
    {
     "data": {
      "text/plain": [
       "XGBRegressor(base_score=0.5, booster='gbtree', colsample_bylevel=1,\n",
       "             colsample_bynode=1, colsample_bytree=1, gamma=0,\n",
       "             importance_type='gain', learning_rate=0.1, max_delta_step=0,\n",
       "             max_depth=3, min_child_weight=1, missing=None, n_estimators=100,\n",
       "             n_jobs=1, nthread=None, objective='reg:squarederror',\n",
       "             random_state=0, reg_alpha=0, reg_lambda=1, scale_pos_weight=1,\n",
       "             seed=None, silent=None, subsample=1, verbosity=1)"
      ]
     },
     "execution_count": 21,
     "metadata": {},
     "output_type": "execute_result"
    }
   ],
   "source": [
    "xgbr = XGBRegressor(objective='reg:squarederror',missing=np.nan)\n",
    "xgbr.fit(train_x,train_y)"
   ]
  },
  {
   "cell_type": "code",
   "execution_count": 22,
   "metadata": {},
   "outputs": [],
   "source": [
    "pred_y = xgbr.predict(test_x)"
   ]
  },
  {
   "cell_type": "code",
   "execution_count": 23,
   "metadata": {},
   "outputs": [],
   "source": [
    "from sklearn.metrics import mean_squared_error,r2_score"
   ]
  },
  {
   "cell_type": "code",
   "execution_count": 24,
   "metadata": {},
   "outputs": [
    {
     "data": {
      "text/plain": [
       "18.546057281492907"
      ]
     },
     "execution_count": 24,
     "metadata": {},
     "output_type": "execute_result"
    }
   ],
   "source": [
    "mean_squared_error(test_y,pred_y)"
   ]
  },
  {
   "cell_type": "code",
   "execution_count": 25,
   "metadata": {},
   "outputs": [
    {
     "data": {
      "text/plain": [
       "0.763981520149438"
      ]
     },
     "execution_count": 25,
     "metadata": {},
     "output_type": "execute_result"
    }
   ],
   "source": [
    "r2_score(test_y,pred_y)"
   ]
  },
  {
   "cell_type": "code",
   "execution_count": 26,
   "metadata": {},
   "outputs": [
    {
     "ename": "ValueError",
     "evalue": "x and y must be the same size",
     "output_type": "error",
     "traceback": [
      "\u001b[1;31m---------------------------------------------------------------------------\u001b[0m",
      "\u001b[1;31mValueError\u001b[0m                                Traceback (most recent call last)",
      "\u001b[1;32m<ipython-input-26-357575e662a7>\u001b[0m in \u001b[0;36m<module>\u001b[1;34m\u001b[0m\n\u001b[1;32m----> 1\u001b[1;33m \u001b[0mplt\u001b[0m\u001b[1;33m.\u001b[0m\u001b[0mscatter\u001b[0m\u001b[1;33m(\u001b[0m\u001b[0mtest_x\u001b[0m\u001b[1;33m,\u001b[0m\u001b[0mtest_y\u001b[0m\u001b[1;33m)\u001b[0m\u001b[1;33m\u001b[0m\u001b[1;33m\u001b[0m\u001b[0m\n\u001b[0m\u001b[0;32m      2\u001b[0m \u001b[0mplt\u001b[0m\u001b[1;33m.\u001b[0m\u001b[0mplot\u001b[0m\u001b[1;33m(\u001b[0m\u001b[0mtest_x\u001b[0m\u001b[1;33m,\u001b[0m\u001b[0mpred_y\u001b[0m\u001b[1;33m)\u001b[0m\u001b[1;33m\u001b[0m\u001b[1;33m\u001b[0m\u001b[0m\n",
      "\u001b[1;32mc:\\users\\avinash mourya\\appdata\\local\\programs\\python\\python37\\lib\\site-packages\\matplotlib\\pyplot.py\u001b[0m in \u001b[0;36mscatter\u001b[1;34m(x, y, s, c, marker, cmap, norm, vmin, vmax, alpha, linewidths, verts, edgecolors, plotnonfinite, data, **kwargs)\u001b[0m\n\u001b[0;32m   2845\u001b[0m         \u001b[0mverts\u001b[0m\u001b[1;33m=\u001b[0m\u001b[0mverts\u001b[0m\u001b[1;33m,\u001b[0m \u001b[0medgecolors\u001b[0m\u001b[1;33m=\u001b[0m\u001b[0medgecolors\u001b[0m\u001b[1;33m,\u001b[0m\u001b[1;33m\u001b[0m\u001b[1;33m\u001b[0m\u001b[0m\n\u001b[0;32m   2846\u001b[0m         plotnonfinite=plotnonfinite, **({\"data\": data} if data is not\n\u001b[1;32m-> 2847\u001b[1;33m         None else {}), **kwargs)\n\u001b[0m\u001b[0;32m   2848\u001b[0m     \u001b[0msci\u001b[0m\u001b[1;33m(\u001b[0m\u001b[0m__ret\u001b[0m\u001b[1;33m)\u001b[0m\u001b[1;33m\u001b[0m\u001b[1;33m\u001b[0m\u001b[0m\n\u001b[0;32m   2849\u001b[0m     \u001b[1;32mreturn\u001b[0m \u001b[0m__ret\u001b[0m\u001b[1;33m\u001b[0m\u001b[1;33m\u001b[0m\u001b[0m\n",
      "\u001b[1;32mc:\\users\\avinash mourya\\appdata\\local\\programs\\python\\python37\\lib\\site-packages\\matplotlib\\__init__.py\u001b[0m in \u001b[0;36minner\u001b[1;34m(ax, data, *args, **kwargs)\u001b[0m\n\u001b[0;32m   1599\u001b[0m     \u001b[1;32mdef\u001b[0m \u001b[0minner\u001b[0m\u001b[1;33m(\u001b[0m\u001b[0max\u001b[0m\u001b[1;33m,\u001b[0m \u001b[1;33m*\u001b[0m\u001b[0margs\u001b[0m\u001b[1;33m,\u001b[0m \u001b[0mdata\u001b[0m\u001b[1;33m=\u001b[0m\u001b[1;32mNone\u001b[0m\u001b[1;33m,\u001b[0m \u001b[1;33m**\u001b[0m\u001b[0mkwargs\u001b[0m\u001b[1;33m)\u001b[0m\u001b[1;33m:\u001b[0m\u001b[1;33m\u001b[0m\u001b[1;33m\u001b[0m\u001b[0m\n\u001b[0;32m   1600\u001b[0m         \u001b[1;32mif\u001b[0m \u001b[0mdata\u001b[0m \u001b[1;32mis\u001b[0m \u001b[1;32mNone\u001b[0m\u001b[1;33m:\u001b[0m\u001b[1;33m\u001b[0m\u001b[1;33m\u001b[0m\u001b[0m\n\u001b[1;32m-> 1601\u001b[1;33m             \u001b[1;32mreturn\u001b[0m \u001b[0mfunc\u001b[0m\u001b[1;33m(\u001b[0m\u001b[0max\u001b[0m\u001b[1;33m,\u001b[0m \u001b[1;33m*\u001b[0m\u001b[0mmap\u001b[0m\u001b[1;33m(\u001b[0m\u001b[0msanitize_sequence\u001b[0m\u001b[1;33m,\u001b[0m \u001b[0margs\u001b[0m\u001b[1;33m)\u001b[0m\u001b[1;33m,\u001b[0m \u001b[1;33m**\u001b[0m\u001b[0mkwargs\u001b[0m\u001b[1;33m)\u001b[0m\u001b[1;33m\u001b[0m\u001b[1;33m\u001b[0m\u001b[0m\n\u001b[0m\u001b[0;32m   1602\u001b[0m \u001b[1;33m\u001b[0m\u001b[0m\n\u001b[0;32m   1603\u001b[0m         \u001b[0mbound\u001b[0m \u001b[1;33m=\u001b[0m \u001b[0mnew_sig\u001b[0m\u001b[1;33m.\u001b[0m\u001b[0mbind\u001b[0m\u001b[1;33m(\u001b[0m\u001b[0max\u001b[0m\u001b[1;33m,\u001b[0m \u001b[1;33m*\u001b[0m\u001b[0margs\u001b[0m\u001b[1;33m,\u001b[0m \u001b[1;33m**\u001b[0m\u001b[0mkwargs\u001b[0m\u001b[1;33m)\u001b[0m\u001b[1;33m\u001b[0m\u001b[1;33m\u001b[0m\u001b[0m\n",
      "\u001b[1;32mc:\\users\\avinash mourya\\appdata\\local\\programs\\python\\python37\\lib\\site-packages\\matplotlib\\axes\\_axes.py\u001b[0m in \u001b[0;36mscatter\u001b[1;34m(self, x, y, s, c, marker, cmap, norm, vmin, vmax, alpha, linewidths, verts, edgecolors, plotnonfinite, **kwargs)\u001b[0m\n\u001b[0;32m   4442\u001b[0m         \u001b[0my\u001b[0m \u001b[1;33m=\u001b[0m \u001b[0mnp\u001b[0m\u001b[1;33m.\u001b[0m\u001b[0mma\u001b[0m\u001b[1;33m.\u001b[0m\u001b[0mravel\u001b[0m\u001b[1;33m(\u001b[0m\u001b[0my\u001b[0m\u001b[1;33m)\u001b[0m\u001b[1;33m\u001b[0m\u001b[1;33m\u001b[0m\u001b[0m\n\u001b[0;32m   4443\u001b[0m         \u001b[1;32mif\u001b[0m \u001b[0mx\u001b[0m\u001b[1;33m.\u001b[0m\u001b[0msize\u001b[0m \u001b[1;33m!=\u001b[0m \u001b[0my\u001b[0m\u001b[1;33m.\u001b[0m\u001b[0msize\u001b[0m\u001b[1;33m:\u001b[0m\u001b[1;33m\u001b[0m\u001b[1;33m\u001b[0m\u001b[0m\n\u001b[1;32m-> 4444\u001b[1;33m             \u001b[1;32mraise\u001b[0m \u001b[0mValueError\u001b[0m\u001b[1;33m(\u001b[0m\u001b[1;34m\"x and y must be the same size\"\u001b[0m\u001b[1;33m)\u001b[0m\u001b[1;33m\u001b[0m\u001b[1;33m\u001b[0m\u001b[0m\n\u001b[0m\u001b[0;32m   4445\u001b[0m \u001b[1;33m\u001b[0m\u001b[0m\n\u001b[0;32m   4446\u001b[0m         \u001b[1;32mif\u001b[0m \u001b[0ms\u001b[0m \u001b[1;32mis\u001b[0m \u001b[1;32mNone\u001b[0m\u001b[1;33m:\u001b[0m\u001b[1;33m\u001b[0m\u001b[1;33m\u001b[0m\u001b[0m\n",
      "\u001b[1;31mValueError\u001b[0m: x and y must be the same size"
     ]
    },
    {
     "data": {
      "image/png": "[encoded data removed]",
      "text/plain": [
       "<Figure size 432x288 with 1 Axes>"
      ]
     },
     "metadata": {
      "needs_background": "light"
     },
     "output_type": "display_data"
    }
   ],
   "source": [
    "# plt.scatter(test_x,test_y)\n",
    "# plt.plot(test_x,pred_y)"
   ]
  },
  {
   "cell_type": "code",
   "execution_count": null,
   "metadata": {},
   "outputs": [],
   "source": []
  },
  {
   "cell_type": "code",
   "execution_count": null,
   "metadata": {},
   "outputs": [],
   "source": []
  }
 ],
 "metadata": {
  "kernelspec": {
   "display_name": "Python 3",
   "language": "python",
   "name": "python3"
  },
  "language_info": {
   "codemirror_mode": {
    "name": "ipython",
    "version": 3
   },
   "file_extension": ".py",
   "mimetype": "text/x-python",
   "name": "python",
   "nbconvert_exporter": "python",
   "pygments_lexer": "ipython3",
   "version": "3.7.6"
  }
 },
 "nbformat": 4,
 "nbformat_minor": 2
}

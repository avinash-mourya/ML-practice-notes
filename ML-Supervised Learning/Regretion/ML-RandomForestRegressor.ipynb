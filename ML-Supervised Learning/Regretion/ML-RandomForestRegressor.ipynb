{
 "cells": [
  {
   "cell_type": "code",
   "execution_count": 1,
   "metadata": {},
   "outputs": [],
   "source": [
    "import numpy as np\n",
    "import pandas as pd\n",
    "import matplotlib.pyplot as plt"
   ]
  },
  {
   "cell_type": "code",
   "execution_count": 2,
   "metadata": {},
   "outputs": [
    {
     "data": {
      "text/plain": [
       "0      6.575\n",
       "1      6.421\n",
       "2      7.185\n",
       "3      6.998\n",
       "4      7.147\n",
       "       ...  \n",
       "501    6.593\n",
       "502    6.120\n",
       "503    6.976\n",
       "504    6.794\n",
       "505    6.030\n",
       "Name: RM, Length: 501, dtype: float64"
      ]
     },
     "execution_count": 2,
     "metadata": {},
     "output_type": "execute_result"
    }
   ],
   "source": [
    "data = pd.read_csv('data.csv')\n",
    "data = data.dropna()\n",
    "data.RM"
   ]
  },
  {
   "cell_type": "code",
   "execution_count": 3,
   "metadata": {},
   "outputs": [],
   "source": [
    "X = data.iloc[:,0:13].values\n",
    "Y = data.iloc[:,13].values"
   ]
  },
  {
   "cell_type": "code",
   "execution_count": 4,
   "metadata": {},
   "outputs": [],
   "source": [
    "from sklearn.model_selection import train_test_split\n",
    "from sklearn.ensemble import RandomForestRegressor\n",
    "from sklearn.metrics import r2_score,mean_squared_error"
   ]
  },
  {
   "cell_type": "code",
   "execution_count": 5,
   "metadata": {},
   "outputs": [],
   "source": [
    "train_x,test_x,train_y,test_y = train_test_split(X,Y,test_size=0.3,random_state=5)"
   ]
  },
  {
   "cell_type": "code",
   "execution_count": 13,
   "metadata": {},
   "outputs": [],
   "source": [
    "DCR = RandomForestRegressor(n_estimators=10,random_state=0)"
   ]
  },
  {
   "cell_type": "code",
   "execution_count": 14,
   "metadata": {},
   "outputs": [
    {
     "data": {
      "text/plain": [
       "RandomForestRegressor(bootstrap=True, criterion='mse', max_depth=None,\n",
       "                      max_features='auto', max_leaf_nodes=None,\n",
       "                      min_impurity_decrease=0.0, min_impurity_split=None,\n",
       "                      min_samples_leaf=1, min_samples_split=2,\n",
       "                      min_weight_fraction_leaf=0.0, n_estimators=10,\n",
       "                      n_jobs=None, oob_score=False, random_state=0, verbose=0,\n",
       "                      warm_start=False)"
      ]
     },
     "execution_count": 14,
     "metadata": {},
     "output_type": "execute_result"
    }
   ],
   "source": [
    "DCR.fit(train_x,train_y)"
   ]
  },
  {
   "cell_type": "code",
   "execution_count": 15,
   "metadata": {},
   "outputs": [],
   "source": [
    "pred_y = DCR.predict(test_x)"
   ]
  },
  {
   "cell_type": "code",
   "execution_count": 16,
   "metadata": {},
   "outputs": [
    {
     "data": {
      "text/plain": [
       "array([24.8, 17.1, 46.7, 22.8, 20.1, 23.2, 11.9, 22.9, 23.8, 23.3,  5. ,\n",
       "       24.3, 50. , 14.5, 13.3, 43.5, 17.5, 13.4, 15.6,  7.2, 18.6, 23.7,\n",
       "        8.4, 26.2, 19.6, 24.3, 19.3, 29.6,  8.7, 23.1, 14.9, 15.2, 20. ,\n",
       "       25. ,  6.3, 20.1, 30.7, 25.3, 22.7, 21.2, 22.5, 26.4, 33.4, 23.1,\n",
       "       33.1, 17.8, 19.1, 19.5, 33.3, 20. , 10.9, 31.5, 11.7, 25. , 18.3,\n",
       "       37.6, 24.5, 17. , 48.5, 24.1, 21. , 18.5, 11.8, 19.3, 17.4, 19.4,\n",
       "       19.1, 20.5, 21.5, 17.2, 23.2, 23.8, 32.7, 20.8, 12.7, 21.1, 50. ,\n",
       "       15.7, 20.6, 20.9, 23.9, 17.5, 22. , 18.2, 22.1, 15.2, 21.4, 23.8,\n",
       "       22.2, 18.9, 23.9, 24.1, 23. , 13.1, 12.3, 13.5, 15. , 28.4, 31.6,\n",
       "       36.2, 44.8, 50. , 50. , 15.6, 50. , 10.2, 10.5, 20.5, 11.8, 13.8,\n",
       "       19.4, 18.9,  9.5, 23. ,  8.4, 16.2, 22.2, 35.4, 19.5, 21.4,  8.1,\n",
       "       20.3, 30.5, 31.7, 27. , 19. , 20.1, 17.1, 10.2, 29.4, 13.8, 22.2,\n",
       "       23.5, 32. , 13.4, 18.7, 18.2, 13.5, 15. , 14.9, 24. , 22.2, 18.8,\n",
       "       24.8, 15.6, 24.4, 50. , 42.3, 31.6, 32.9, 16.1])"
      ]
     },
     "execution_count": 16,
     "metadata": {},
     "output_type": "execute_result"
    }
   ],
   "source": [
    "test_y"
   ]
  },
  {
   "cell_type": "code",
   "execution_count": 17,
   "metadata": {},
   "outputs": [
    {
     "data": {
      "text/plain": [
       "array([23.36, 18.31, 43.98, 28.31, 16.59, 18.82, 20.96, 24.55, 23.31,\n",
       "       23.42,  6.44, 22.59, 44.44, 13.66, 14.82, 40.38, 21.15, 16.45,\n",
       "       19.12,  8.62, 20.41, 26.86,  9.37, 28.29, 21.23, 24.97, 20.18,\n",
       "       32.47,  8.83, 23.78, 13.25, 15.79, 16.44, 24.46,  9.97, 24.13,\n",
       "       23.51, 24.38, 22.47, 20.17, 24.78, 21.9 , 34.75, 24.25, 31.1 ,\n",
       "       14.61, 15.  , 19.93, 38.23, 23.49, 10.53, 27.62, 14.19, 26.53,\n",
       "       20.13, 48.4 , 28.16, 18.77, 47.43, 24.05, 23.25, 20.96,  9.72,\n",
       "       21.  , 15.08, 20.07, 14.19, 20.92, 19.33, 15.19, 22.23, 21.28,\n",
       "       34.04, 19.26, 16.22, 21.2 , 41.67, 16.12, 21.56, 21.04, 26.03,\n",
       "       20.1 , 21.38, 18.8 , 22.5 , 15.29, 21.13, 20.19, 20.53, 17.59,\n",
       "       22.12, 27.75, 22.29, 18.38, 10.47, 13.52, 30.1 , 27.34, 33.18,\n",
       "       25.25, 45.66, 42.92, 46.44, 18.74, 39.86, 14.97,  6.32, 20.92,\n",
       "       15.12, 16.15, 19.88, 20.11, 10.8 , 24.74, 12.75, 14.6 , 22.61,\n",
       "       36.07, 18.35, 20.38,  9.16, 21.48, 31.49, 34.28, 25.53, 20.47,\n",
       "       19.55, 13.19,  8.27, 28.54, 13.23, 20.61, 24.4 , 28.78, 10.17,\n",
       "       20.65, 20.26, 14.26, 24.2 , 15.92, 30.1 , 23.56, 21.37, 28.47,\n",
       "       14.78, 23.15, 43.29, 43.15, 31.45, 36.98, 18.28])"
      ]
     },
     "execution_count": 17,
     "metadata": {},
     "output_type": "execute_result"
    }
   ],
   "source": [
    "pred_y"
   ]
  },
  {
   "cell_type": "code",
   "execution_count": 18,
   "metadata": {},
   "outputs": [
    {
     "data": {
      "text/plain": [
       "0.8735756010330655"
      ]
     },
     "execution_count": 18,
     "metadata": {},
     "output_type": "execute_result"
    }
   ],
   "source": [
    "r2_score(test_y,pred_y)"
   ]
  },
  {
   "cell_type": "code",
   "execution_count": 19,
   "metadata": {},
   "outputs": [
    {
     "data": {
      "text/plain": [
       "11.647546357615898"
      ]
     },
     "execution_count": 19,
     "metadata": {},
     "output_type": "execute_result"
    }
   ],
   "source": [
    "mean_squared_error(test_y,pred_y)"
   ]
  },
  {
   "cell_type": "code",
   "execution_count": null,
   "metadata": {},
   "outputs": [],
   "source": [
    "\n"
   ]
  },
  {
   "cell_type": "code",
   "execution_count": null,
   "metadata": {},
   "outputs": [],
   "source": []
  }
 ],
 "metadata": {
  "kernelspec": {
   "display_name": "Python 3",
   "language": "python",
   "name": "python3"
  },
  "language_info": {
   "codemirror_mode": {
    "name": "ipython",
    "version": 3
   },
   "file_extension": ".py",
   "mimetype": "text/x-python",
   "name": "python",
   "nbconvert_exporter": "python",
   "pygments_lexer": "ipython3",
   "version": "3.7.2"
  }
 },
 "nbformat": 4,
 "nbformat_minor": 2
}

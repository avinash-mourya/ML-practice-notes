{
 "cells": [
  {
   "cell_type": "code",
   "execution_count": 1,
   "metadata": {},
   "outputs": [],
   "source": [
    "import numpy as np\n",
    "import pandas as pd\n",
    "import matplotlib.pyplot as plt"
   ]
  },
  {
   "cell_type": "code",
   "execution_count": 2,
   "metadata": {},
   "outputs": [
    {
     "data": {
      "text/html": [
       "<div>\n",
       "<style scoped>\n",
       "    .dataframe tbody tr th:only-of-type {\n",
       "        vertical-align: middle;\n",
       "    }\n",
       "\n",
       "    .dataframe tbody tr th {\n",
       "        vertical-align: top;\n",
       "    }\n",
       "\n",
       "    .dataframe thead th {\n",
       "        text-align: right;\n",
       "    }\n",
       "</style>\n",
       "<table border=\"1\" class=\"dataframe\">\n",
       "  <thead>\n",
       "    <tr style=\"text-align: right;\">\n",
       "      <th></th>\n",
       "      <th>CRIM</th>\n",
       "      <th>ZN</th>\n",
       "      <th>INDUS</th>\n",
       "      <th>CHAS</th>\n",
       "      <th>NOX</th>\n",
       "      <th>RM</th>\n",
       "      <th>AGE</th>\n",
       "      <th>DIS</th>\n",
       "      <th>RAD</th>\n",
       "      <th>TAX</th>\n",
       "      <th>PTRATIO</th>\n",
       "      <th>B</th>\n",
       "      <th>LSTAT</th>\n",
       "      <th>MEDV</th>\n",
       "    </tr>\n",
       "  </thead>\n",
       "  <tbody>\n",
       "    <tr>\n",
       "      <th>0</th>\n",
       "      <td>0.00632</td>\n",
       "      <td>18.0</td>\n",
       "      <td>2.31</td>\n",
       "      <td>0</td>\n",
       "      <td>0.538</td>\n",
       "      <td>6.575</td>\n",
       "      <td>65.2</td>\n",
       "      <td>4.0900</td>\n",
       "      <td>1</td>\n",
       "      <td>296</td>\n",
       "      <td>15.3</td>\n",
       "      <td>396.90</td>\n",
       "      <td>4.98</td>\n",
       "      <td>24.0</td>\n",
       "    </tr>\n",
       "    <tr>\n",
       "      <th>1</th>\n",
       "      <td>0.02731</td>\n",
       "      <td>0.0</td>\n",
       "      <td>7.07</td>\n",
       "      <td>0</td>\n",
       "      <td>0.469</td>\n",
       "      <td>6.421</td>\n",
       "      <td>78.9</td>\n",
       "      <td>4.9671</td>\n",
       "      <td>2</td>\n",
       "      <td>242</td>\n",
       "      <td>17.8</td>\n",
       "      <td>396.90</td>\n",
       "      <td>9.14</td>\n",
       "      <td>21.6</td>\n",
       "    </tr>\n",
       "    <tr>\n",
       "      <th>2</th>\n",
       "      <td>0.02729</td>\n",
       "      <td>0.0</td>\n",
       "      <td>7.07</td>\n",
       "      <td>0</td>\n",
       "      <td>0.469</td>\n",
       "      <td>7.185</td>\n",
       "      <td>61.1</td>\n",
       "      <td>4.9671</td>\n",
       "      <td>2</td>\n",
       "      <td>242</td>\n",
       "      <td>17.8</td>\n",
       "      <td>392.83</td>\n",
       "      <td>4.03</td>\n",
       "      <td>34.7</td>\n",
       "    </tr>\n",
       "    <tr>\n",
       "      <th>3</th>\n",
       "      <td>0.03237</td>\n",
       "      <td>0.0</td>\n",
       "      <td>2.18</td>\n",
       "      <td>0</td>\n",
       "      <td>0.458</td>\n",
       "      <td>6.998</td>\n",
       "      <td>45.8</td>\n",
       "      <td>6.0622</td>\n",
       "      <td>3</td>\n",
       "      <td>222</td>\n",
       "      <td>18.7</td>\n",
       "      <td>394.63</td>\n",
       "      <td>2.94</td>\n",
       "      <td>33.4</td>\n",
       "    </tr>\n",
       "    <tr>\n",
       "      <th>4</th>\n",
       "      <td>0.06905</td>\n",
       "      <td>0.0</td>\n",
       "      <td>2.18</td>\n",
       "      <td>0</td>\n",
       "      <td>0.458</td>\n",
       "      <td>7.147</td>\n",
       "      <td>54.2</td>\n",
       "      <td>6.0622</td>\n",
       "      <td>3</td>\n",
       "      <td>222</td>\n",
       "      <td>18.7</td>\n",
       "      <td>396.90</td>\n",
       "      <td>5.33</td>\n",
       "      <td>36.2</td>\n",
       "    </tr>\n",
       "    <tr>\n",
       "      <th>...</th>\n",
       "      <td>...</td>\n",
       "      <td>...</td>\n",
       "      <td>...</td>\n",
       "      <td>...</td>\n",
       "      <td>...</td>\n",
       "      <td>...</td>\n",
       "      <td>...</td>\n",
       "      <td>...</td>\n",
       "      <td>...</td>\n",
       "      <td>...</td>\n",
       "      <td>...</td>\n",
       "      <td>...</td>\n",
       "      <td>...</td>\n",
       "      <td>...</td>\n",
       "    </tr>\n",
       "    <tr>\n",
       "      <th>501</th>\n",
       "      <td>0.06263</td>\n",
       "      <td>0.0</td>\n",
       "      <td>11.93</td>\n",
       "      <td>0</td>\n",
       "      <td>0.573</td>\n",
       "      <td>6.593</td>\n",
       "      <td>69.1</td>\n",
       "      <td>2.4786</td>\n",
       "      <td>1</td>\n",
       "      <td>273</td>\n",
       "      <td>21.0</td>\n",
       "      <td>391.99</td>\n",
       "      <td>9.67</td>\n",
       "      <td>22.4</td>\n",
       "    </tr>\n",
       "    <tr>\n",
       "      <th>502</th>\n",
       "      <td>0.04527</td>\n",
       "      <td>0.0</td>\n",
       "      <td>11.93</td>\n",
       "      <td>0</td>\n",
       "      <td>0.573</td>\n",
       "      <td>6.120</td>\n",
       "      <td>76.7</td>\n",
       "      <td>2.2875</td>\n",
       "      <td>1</td>\n",
       "      <td>273</td>\n",
       "      <td>21.0</td>\n",
       "      <td>396.90</td>\n",
       "      <td>9.08</td>\n",
       "      <td>20.6</td>\n",
       "    </tr>\n",
       "    <tr>\n",
       "      <th>503</th>\n",
       "      <td>0.06076</td>\n",
       "      <td>0.0</td>\n",
       "      <td>11.93</td>\n",
       "      <td>0</td>\n",
       "      <td>0.573</td>\n",
       "      <td>6.976</td>\n",
       "      <td>91.0</td>\n",
       "      <td>2.1675</td>\n",
       "      <td>1</td>\n",
       "      <td>273</td>\n",
       "      <td>21.0</td>\n",
       "      <td>396.90</td>\n",
       "      <td>5.64</td>\n",
       "      <td>23.9</td>\n",
       "    </tr>\n",
       "    <tr>\n",
       "      <th>504</th>\n",
       "      <td>0.10959</td>\n",
       "      <td>0.0</td>\n",
       "      <td>11.93</td>\n",
       "      <td>0</td>\n",
       "      <td>0.573</td>\n",
       "      <td>6.794</td>\n",
       "      <td>89.3</td>\n",
       "      <td>2.3889</td>\n",
       "      <td>1</td>\n",
       "      <td>273</td>\n",
       "      <td>21.0</td>\n",
       "      <td>393.45</td>\n",
       "      <td>6.48</td>\n",
       "      <td>22.0</td>\n",
       "    </tr>\n",
       "    <tr>\n",
       "      <th>505</th>\n",
       "      <td>0.04741</td>\n",
       "      <td>0.0</td>\n",
       "      <td>11.93</td>\n",
       "      <td>0</td>\n",
       "      <td>0.573</td>\n",
       "      <td>6.030</td>\n",
       "      <td>80.8</td>\n",
       "      <td>2.5050</td>\n",
       "      <td>1</td>\n",
       "      <td>273</td>\n",
       "      <td>21.0</td>\n",
       "      <td>396.90</td>\n",
       "      <td>7.88</td>\n",
       "      <td>11.9</td>\n",
       "    </tr>\n",
       "  </tbody>\n",
       "</table>\n",
       "<p>501 rows × 14 columns</p>\n",
       "</div>"
      ],
      "text/plain": [
       "        CRIM    ZN  INDUS  CHAS    NOX     RM   AGE     DIS  RAD  TAX  \\\n",
       "0    0.00632  18.0   2.31     0  0.538  6.575  65.2  4.0900    1  296   \n",
       "1    0.02731   0.0   7.07     0  0.469  6.421  78.9  4.9671    2  242   \n",
       "2    0.02729   0.0   7.07     0  0.469  7.185  61.1  4.9671    2  242   \n",
       "3    0.03237   0.0   2.18     0  0.458  6.998  45.8  6.0622    3  222   \n",
       "4    0.06905   0.0   2.18     0  0.458  7.147  54.2  6.0622    3  222   \n",
       "..       ...   ...    ...   ...    ...    ...   ...     ...  ...  ...   \n",
       "501  0.06263   0.0  11.93     0  0.573  6.593  69.1  2.4786    1  273   \n",
       "502  0.04527   0.0  11.93     0  0.573  6.120  76.7  2.2875    1  273   \n",
       "503  0.06076   0.0  11.93     0  0.573  6.976  91.0  2.1675    1  273   \n",
       "504  0.10959   0.0  11.93     0  0.573  6.794  89.3  2.3889    1  273   \n",
       "505  0.04741   0.0  11.93     0  0.573  6.030  80.8  2.5050    1  273   \n",
       "\n",
       "     PTRATIO       B  LSTAT  MEDV  \n",
       "0       15.3  396.90   4.98  24.0  \n",
       "1       17.8  396.90   9.14  21.6  \n",
       "2       17.8  392.83   4.03  34.7  \n",
       "3       18.7  394.63   2.94  33.4  \n",
       "4       18.7  396.90   5.33  36.2  \n",
       "..       ...     ...    ...   ...  \n",
       "501     21.0  391.99   9.67  22.4  \n",
       "502     21.0  396.90   9.08  20.6  \n",
       "503     21.0  396.90   5.64  23.9  \n",
       "504     21.0  393.45   6.48  22.0  \n",
       "505     21.0  396.90   7.88  11.9  \n",
       "\n",
       "[501 rows x 14 columns]"
      ]
     },
     "execution_count": 2,
     "metadata": {},
     "output_type": "execute_result"
    }
   ],
   "source": [
    "data = pd.read_csv(\"data.csv\")\n",
    "data = data.dropna()\n",
    "data"
   ]
  },
  {
   "cell_type": "code",
   "execution_count": 3,
   "metadata": {},
   "outputs": [],
   "source": [
    "X = data.iloc[:,0:13].values\n",
    "Y = data.iloc[:,13].values"
   ]
  },
  {
   "cell_type": "code",
   "execution_count": 4,
   "metadata": {},
   "outputs": [
    {
     "name": "stderr",
     "output_type": "stream",
     "text": [
      "c:\\users\\avinash mourya\\appdata\\local\\programs\\python\\python37\\lib\\site-packages\\statsmodels\\tools\\_testing.py:19: FutureWarning: pandas.util.testing is deprecated. Use the functions in the public API at pandas.testing instead.\n",
      "  import pandas.util.testing as tm\n"
     ]
    }
   ],
   "source": [
    "from sklearn.model_selection import train_test_split\n",
    "from sklearn.linear_model import LinearRegression\n",
    "from sklearn.metrics import r2_score,mean_squared_error\n",
    "import statsmodels.api as sm\n",
    "from sklearn.decomposition import FastICA,PCA,KernelPCA\n",
    "from sklearn.discriminant_analysis import LinearDiscriminantAnalysis as LDA\n",
    "from sklearn.preprocessing import StandardScaler"
   ]
  },
  {
   "cell_type": "code",
   "execution_count": 5,
   "metadata": {},
   "outputs": [],
   "source": [
    "train_x,test_x,train_y,test_y = train_test_split(X,Y,test_size = 0.3,random_state=5)"
   ]
  },
  {
   "cell_type": "code",
   "execution_count": 6,
   "metadata": {},
   "outputs": [],
   "source": [
    "sc= StandardScaler()\n",
    "train_x = sc.fit_transform(train_x)\n",
    "test_x = sc.transform(test_x)"
   ]
  },
  {
   "cell_type": "markdown",
   "metadata": {},
   "source": [
    "### Principal Component Analysis"
   ]
  },
  {
   "cell_type": "code",
   "execution_count": 8,
   "metadata": {
    "scrolled": true
   },
   "outputs": [],
   "source": [
    "pca = PCA(n_components=8)\n",
    "train_x = pca.fit_transform(train_x)\n",
    "test_x = pca.fit_transform(test_x)\n",
    "# pca.explained_variance_ratio_"
   ]
  },
  {
   "cell_type": "markdown",
   "metadata": {},
   "source": [
    "### Kernel Principal Component Analysis"
   ]
  },
  {
   "cell_type": "code",
   "execution_count": 19,
   "metadata": {},
   "outputs": [],
   "source": [
    "# kpca = KernelPCA(n_components=8)\n",
    "# train_x = kpca.fit_transform(train_x)\n",
    "# test_x = kpca.fit_transform(test_x)"
   ]
  },
  {
   "cell_type": "code",
   "execution_count": 9,
   "metadata": {},
   "outputs": [
    {
     "data": {
      "text/plain": [
       "array([[-2.63751834,  0.05355647, -0.08041857, ...,  0.66757518,\n",
       "         0.56459021,  0.30516111],\n",
       "       [-4.03373399,  2.40449541, -0.10612388, ..., -1.17005965,\n",
       "        -0.68385682, -0.45993758],\n",
       "       [-2.85424142,  0.50507369,  1.4075085 , ..., -0.60489887,\n",
       "        -0.17337823,  0.05606949],\n",
       "       ...,\n",
       "       [ 0.35306343, -0.65579409, -0.81440911, ..., -0.06847839,\n",
       "         0.06473823, -0.1463815 ],\n",
       "       [ 0.2192379 , -2.10833399, -1.000918  , ...,  0.61604037,\n",
       "         0.48134586, -0.58750478],\n",
       "       [ 2.57099809, -0.07730522,  0.97489985, ..., -1.02024623,\n",
       "        -0.86441621,  0.35826077]])"
      ]
     },
     "execution_count": 9,
     "metadata": {},
     "output_type": "execute_result"
    }
   ],
   "source": [
    "train_x"
   ]
  },
  {
   "cell_type": "code",
   "execution_count": 10,
   "metadata": {},
   "outputs": [],
   "source": [
    "LR = LinearRegression()"
   ]
  },
  {
   "cell_type": "code",
   "execution_count": 11,
   "metadata": {},
   "outputs": [
    {
     "data": {
      "text/plain": [
       "LinearRegression(copy_X=True, fit_intercept=True, n_jobs=None, normalize=False)"
      ]
     },
     "execution_count": 11,
     "metadata": {},
     "output_type": "execute_result"
    }
   ],
   "source": [
    "LR.fit(train_x,train_y)"
   ]
  },
  {
   "cell_type": "code",
   "execution_count": 12,
   "metadata": {},
   "outputs": [],
   "source": [
    "pred_y = LR.predict(test_x)"
   ]
  },
  {
   "cell_type": "code",
   "execution_count": 13,
   "metadata": {},
   "outputs": [
    {
     "data": {
      "text/plain": [
       "array([-2.26081245, -1.91770769,  3.68079002, -1.65635349, -0.75137661,\n",
       "        0.27079302, -0.25008056,  0.88871339])"
      ]
     },
     "execution_count": 13,
     "metadata": {},
     "output_type": "execute_result"
    }
   ],
   "source": [
    "LR.coef_"
   ]
  },
  {
   "cell_type": "code",
   "execution_count": 14,
   "metadata": {},
   "outputs": [
    {
     "data": {
      "text/plain": [
       "22.674857142857142"
      ]
     },
     "execution_count": 14,
     "metadata": {},
     "output_type": "execute_result"
    }
   ],
   "source": [
    "LR.intercept_"
   ]
  },
  {
   "cell_type": "code",
   "execution_count": 15,
   "metadata": {},
   "outputs": [
    {
     "data": {
      "text/plain": [
       "array([27.67781303, 22.15008384, 30.12411451, 26.20439279, 10.09147076,\n",
       "       12.69380499, 26.28183672, 25.3440436 , 27.62142758, 23.92019114,\n",
       "        1.69642647, 23.6829549 , 35.51452831, 11.90592434, 10.75034318,\n",
       "       36.23377507, 23.16566502, 12.99495012, 32.19619297,  7.97411814,\n",
       "       23.96014924, 13.73855399,  7.41954488, 25.03529522, 22.20796337,\n",
       "       30.83420015, 22.25607455, 25.72362389,  8.91682635, 26.34543495,\n",
       "       12.07582323, 18.09783188, 11.76675905, 28.64008966,  8.30253248,\n",
       "       26.22256447, 33.44813616, 29.69506588, 15.14103245, 24.55533823,\n",
       "       29.43059715, 28.32367094, 28.76255752, 25.76683531, 32.15974579,\n",
       "       21.06301758, 10.79299706, 25.3075684 , 34.28330094, 25.75480411,\n",
       "        9.25831488, 28.93808513, 11.1935728 , 30.18687289, 24.39890086,\n",
       "       30.14650421, 28.0493548 , 31.87299394, 33.72746768, 26.24134854,\n",
       "       23.86251929, 21.09365196, 10.57159766, 28.237565  , 21.21356929,\n",
       "       26.77698109,  9.06637189, 28.65379505, 29.65279125,  9.09297231,\n",
       "       27.67201119, 30.03554512, 32.25959331, 12.78698357, 12.24613914,\n",
       "       25.72369787, 33.16171703, 25.37154264, 12.59290576, 25.10232601,\n",
       "       27.7101862 , 24.95340606, 28.28484838, 19.6197234 , 28.25307594,\n",
       "       21.90339677, 10.78660448, 29.69433826, 27.21940439, 18.74001531,\n",
       "       30.24664064, 24.4127278 , 12.6293165 , 28.95597296,  9.14129509,\n",
       "       21.86244873,  4.4894746 , 27.48781225, 28.68280592, 29.97284072,\n",
       "       30.33462715, 36.22905024, 34.11794309, 29.07632612, 17.6169448 ,\n",
       "       11.37958066,  4.19819017, 23.35140322, 25.11251088, 27.29477588,\n",
       "       26.46750375, 27.7283894 , 10.60857816, 26.35039166, 11.09932635,\n",
       "       20.90818646, 26.34447098, 28.04157087, 21.4636516 , 11.97496654,\n",
       "       15.52636142, 28.38392264, 29.54075519, 29.03984226, 33.5651445 ,\n",
       "       25.55108341, 26.75393397, 10.67502708,  6.02510646, 30.65793528,\n",
       "       10.08392703, 24.6781051 , 28.7129508 , 29.8100916 , 10.57838591,\n",
       "       25.53022   , 23.31647223, 11.92919566, 10.89255642, 11.83929904,\n",
       "       32.81442454, 24.13572018, 24.16612908, 29.49077563, 25.96749818,\n",
       "       27.19383638, 12.72535532, 32.54778016, 30.40979875, 27.5535988 ,\n",
       "       25.62378862])"
      ]
     },
     "execution_count": 15,
     "metadata": {},
     "output_type": "execute_result"
    }
   ],
   "source": [
    "pred_y"
   ]
  },
  {
   "cell_type": "code",
   "execution_count": 16,
   "metadata": {},
   "outputs": [
    {
     "data": {
      "text/plain": [
       "array([24.8, 17.1, 46.7, 22.8, 20.1, 23.2, 11.9, 22.9, 23.8, 23.3,  5. ,\n",
       "       24.3, 50. , 14.5, 13.3, 43.5, 17.5, 13.4, 15.6,  7.2, 18.6, 23.7,\n",
       "        8.4, 26.2, 19.6, 24.3, 19.3, 29.6,  8.7, 23.1, 14.9, 15.2, 20. ,\n",
       "       25. ,  6.3, 20.1, 30.7, 25.3, 22.7, 21.2, 22.5, 26.4, 33.4, 23.1,\n",
       "       33.1, 17.8, 19.1, 19.5, 33.3, 20. , 10.9, 31.5, 11.7, 25. , 18.3,\n",
       "       37.6, 24.5, 17. , 48.5, 24.1, 21. , 18.5, 11.8, 19.3, 17.4, 19.4,\n",
       "       19.1, 20.5, 21.5, 17.2, 23.2, 23.8, 32.7, 20.8, 12.7, 21.1, 50. ,\n",
       "       15.7, 20.6, 20.9, 23.9, 17.5, 22. , 18.2, 22.1, 15.2, 21.4, 23.8,\n",
       "       22.2, 18.9, 23.9, 24.1, 23. , 13.1, 12.3, 13.5, 15. , 28.4, 31.6,\n",
       "       36.2, 44.8, 50. , 50. , 15.6, 50. , 10.2, 10.5, 20.5, 11.8, 13.8,\n",
       "       19.4, 18.9,  9.5, 23. ,  8.4, 16.2, 22.2, 35.4, 19.5, 21.4,  8.1,\n",
       "       20.3, 30.5, 31.7, 27. , 19. , 20.1, 17.1, 10.2, 29.4, 13.8, 22.2,\n",
       "       23.5, 32. , 13.4, 18.7, 18.2, 13.5, 15. , 14.9, 24. , 22.2, 18.8,\n",
       "       24.8, 15.6, 24.4, 50. , 42.3, 31.6, 32.9, 16.1])"
      ]
     },
     "execution_count": 16,
     "metadata": {},
     "output_type": "execute_result"
    }
   ],
   "source": [
    "test_y"
   ]
  },
  {
   "cell_type": "code",
   "execution_count": 17,
   "metadata": {},
   "outputs": [
    {
     "data": {
      "text/plain": [
       "0.3065636127783907"
      ]
     },
     "execution_count": 17,
     "metadata": {},
     "output_type": "execute_result"
    }
   ],
   "source": [
    "r2_score(test_y,pred_y)"
   ]
  },
  {
   "cell_type": "code",
   "execution_count": 18,
   "metadata": {
    "scrolled": true
   },
   "outputs": [
    {
     "data": {
      "text/plain": [
       "63.8866590011144"
      ]
     },
     "execution_count": 18,
     "metadata": {},
     "output_type": "execute_result"
    }
   ],
   "source": [
    "mean_squared_error(test_y,pred_y)"
   ]
  },
  {
   "cell_type": "code",
   "execution_count": 20,
   "metadata": {},
   "outputs": [],
   "source": [
    "# plt.scatter(train_x,train_y)\n",
    "# plt.plot(train_x,train_y)\n",
    "# plt.show()"
   ]
  },
  {
   "cell_type": "code",
   "execution_count": 21,
   "metadata": {},
   "outputs": [],
   "source": [
    "# plt.scatter(test_x,test_y)\n",
    "# plt.plot(test_x,test_y)\n",
    "# plt.show()"
   ]
  },
  {
   "cell_type": "code",
   "execution_count": null,
   "metadata": {},
   "outputs": [],
   "source": []
  },
  {
   "cell_type": "code",
   "execution_count": 49,
   "metadata": {},
   "outputs": [],
   "source": [
    "X = X[:,1:]"
   ]
  },
  {
   "cell_type": "code",
   "execution_count": 50,
   "metadata": {},
   "outputs": [],
   "source": [
    "X = np.append(arr=np.ones((501,1)).astype(int),values=X,axis=1) "
   ]
  },
  {
   "cell_type": "code",
   "execution_count": 51,
   "metadata": {},
   "outputs": [],
   "source": [
    "X=X[:,[0,1,2,3,4,5,6,7,8,9,10,11,12]]"
   ]
  },
  {
   "cell_type": "code",
   "execution_count": 52,
   "metadata": {},
   "outputs": [],
   "source": [
    "ols = sm.OLS(endog=Y,exog=X).fit()"
   ]
  },
  {
   "cell_type": "code",
   "execution_count": 53,
   "metadata": {},
   "outputs": [
    {
     "data": {
      "text/html": [
       "<table class=\"simpletable\">\n",
       "<caption>OLS Regression Results</caption>\n",
       "<tr>\n",
       "  <th>Dep. Variable:</th>            <td>y</td>        <th>  R-squared:         </th> <td>   0.736</td> \n",
       "</tr>\n",
       "<tr>\n",
       "  <th>Model:</th>                   <td>OLS</td>       <th>  Adj. R-squared:    </th> <td>   0.729</td> \n",
       "</tr>\n",
       "<tr>\n",
       "  <th>Method:</th>             <td>Least Squares</td>  <th>  F-statistic:       </th> <td>   113.2</td> \n",
       "</tr>\n",
       "<tr>\n",
       "  <th>Date:</th>             <td>Thu, 23 Jan 2020</td> <th>  Prob (F-statistic):</th> <td>1.67e-132</td>\n",
       "</tr>\n",
       "<tr>\n",
       "  <th>Time:</th>                 <td>02:35:48</td>     <th>  Log-Likelihood:    </th> <td> -1490.7</td> \n",
       "</tr>\n",
       "<tr>\n",
       "  <th>No. Observations:</th>      <td>   501</td>      <th>  AIC:               </th> <td>   3007.</td> \n",
       "</tr>\n",
       "<tr>\n",
       "  <th>Df Residuals:</th>          <td>   488</td>      <th>  BIC:               </th> <td>   3062.</td> \n",
       "</tr>\n",
       "<tr>\n",
       "  <th>Df Model:</th>              <td>    12</td>      <th>                     </th>     <td> </td>    \n",
       "</tr>\n",
       "<tr>\n",
       "  <th>Covariance Type:</th>      <td>nonrobust</td>    <th>                     </th>     <td> </td>    \n",
       "</tr>\n",
       "</table>\n",
       "<table class=\"simpletable\">\n",
       "<tr>\n",
       "    <td></td>       <th>coef</th>     <th>std err</th>      <th>t</th>      <th>P>|t|</th>  <th>[0.025</th>    <th>0.975]</th>  \n",
       "</tr>\n",
       "<tr>\n",
       "  <th>const</th> <td>   35.9553</td> <td>    5.195</td> <td>    6.921</td> <td> 0.000</td> <td>   25.748</td> <td>   46.163</td>\n",
       "</tr>\n",
       "<tr>\n",
       "  <th>x1</th>    <td>    0.0416</td> <td>    0.014</td> <td>    2.993</td> <td> 0.003</td> <td>    0.014</td> <td>    0.069</td>\n",
       "</tr>\n",
       "<tr>\n",
       "  <th>x2</th>    <td>    0.0216</td> <td>    0.063</td> <td>    0.345</td> <td> 0.730</td> <td>   -0.101</td> <td>    0.145</td>\n",
       "</tr>\n",
       "<tr>\n",
       "  <th>x3</th>    <td>    2.8106</td> <td>    0.872</td> <td>    3.225</td> <td> 0.001</td> <td>    1.098</td> <td>    4.523</td>\n",
       "</tr>\n",
       "<tr>\n",
       "  <th>x4</th>    <td>  -17.3280</td> <td>    3.869</td> <td>   -4.479</td> <td> 0.000</td> <td>  -24.930</td> <td>   -9.727</td>\n",
       "</tr>\n",
       "<tr>\n",
       "  <th>x5</th>    <td>    3.8173</td> <td>    0.425</td> <td>    8.982</td> <td> 0.000</td> <td>    2.982</td> <td>    4.652</td>\n",
       "</tr>\n",
       "<tr>\n",
       "  <th>x6</th>    <td>    0.0018</td> <td>    0.013</td> <td>    0.132</td> <td> 0.895</td> <td>   -0.025</td> <td>    0.028</td>\n",
       "</tr>\n",
       "<tr>\n",
       "  <th>x7</th>    <td>   -1.4051</td> <td>    0.203</td> <td>   -6.905</td> <td> 0.000</td> <td>   -1.805</td> <td>   -1.005</td>\n",
       "</tr>\n",
       "<tr>\n",
       "  <th>x8</th>    <td>    0.2473</td> <td>    0.065</td> <td>    3.802</td> <td> 0.000</td> <td>    0.120</td> <td>    0.375</td>\n",
       "</tr>\n",
       "<tr>\n",
       "  <th>x9</th>    <td>   -0.0121</td> <td>    0.004</td> <td>   -3.164</td> <td> 0.002</td> <td>   -0.020</td> <td>   -0.005</td>\n",
       "</tr>\n",
       "<tr>\n",
       "  <th>x10</th>   <td>   -0.9567</td> <td>    0.134</td> <td>   -7.164</td> <td> 0.000</td> <td>   -1.219</td> <td>   -0.694</td>\n",
       "</tr>\n",
       "<tr>\n",
       "  <th>x11</th>   <td>    0.0104</td> <td>    0.003</td> <td>    3.833</td> <td> 0.000</td> <td>    0.005</td> <td>    0.016</td>\n",
       "</tr>\n",
       "<tr>\n",
       "  <th>x12</th>   <td>   -0.5493</td> <td>    0.051</td> <td>  -10.784</td> <td> 0.000</td> <td>   -0.649</td> <td>   -0.449</td>\n",
       "</tr>\n",
       "</table>\n",
       "<table class=\"simpletable\">\n",
       "<tr>\n",
       "  <th>Omnibus:</th>       <td>169.066</td> <th>  Durbin-Watson:     </th> <td>   1.074</td> \n",
       "</tr>\n",
       "<tr>\n",
       "  <th>Prob(Omnibus):</th> <td> 0.000</td>  <th>  Jarque-Bera (JB):  </th> <td> 746.406</td> \n",
       "</tr>\n",
       "<tr>\n",
       "  <th>Skew:</th>          <td> 1.448</td>  <th>  Prob(JB):          </th> <td>8.32e-163</td>\n",
       "</tr>\n",
       "<tr>\n",
       "  <th>Kurtosis:</th>      <td> 8.232</td>  <th>  Cond. No.          </th> <td>1.51e+04</td> \n",
       "</tr>\n",
       "</table><br/><br/>Warnings:<br/>[1] Standard Errors assume that the covariance matrix of the errors is correctly specified.<br/>[2] The condition number is large, 1.51e+04. This might indicate that there are<br/>strong multicollinearity or other numerical problems."
      ],
      "text/plain": [
       "<class 'statsmodels.iolib.summary.Summary'>\n",
       "\"\"\"\n",
       "                            OLS Regression Results                            \n",
       "==============================================================================\n",
       "Dep. Variable:                      y   R-squared:                       0.736\n",
       "Model:                            OLS   Adj. R-squared:                  0.729\n",
       "Method:                 Least Squares   F-statistic:                     113.2\n",
       "Date:                Thu, 23 Jan 2020   Prob (F-statistic):          1.67e-132\n",
       "Time:                        02:35:48   Log-Likelihood:                -1490.7\n",
       "No. Observations:                 501   AIC:                             3007.\n",
       "Df Residuals:                     488   BIC:                             3062.\n",
       "Df Model:                          12                                         \n",
       "Covariance Type:            nonrobust                                         \n",
       "==============================================================================\n",
       "                 coef    std err          t      P>|t|      [0.025      0.975]\n",
       "------------------------------------------------------------------------------\n",
       "const         35.9553      5.195      6.921      0.000      25.748      46.163\n",
       "x1             0.0416      0.014      2.993      0.003       0.014       0.069\n",
       "x2             0.0216      0.063      0.345      0.730      -0.101       0.145\n",
       "x3             2.8106      0.872      3.225      0.001       1.098       4.523\n",
       "x4           -17.3280      3.869     -4.479      0.000     -24.930      -9.727\n",
       "x5             3.8173      0.425      8.982      0.000       2.982       4.652\n",
       "x6             0.0018      0.013      0.132      0.895      -0.025       0.028\n",
       "x7            -1.4051      0.203     -6.905      0.000      -1.805      -1.005\n",
       "x8             0.2473      0.065      3.802      0.000       0.120       0.375\n",
       "x9            -0.0121      0.004     -3.164      0.002      -0.020      -0.005\n",
       "x10           -0.9567      0.134     -7.164      0.000      -1.219      -0.694\n",
       "x11            0.0104      0.003      3.833      0.000       0.005       0.016\n",
       "x12           -0.5493      0.051    -10.784      0.000      -0.649      -0.449\n",
       "==============================================================================\n",
       "Omnibus:                      169.066   Durbin-Watson:                   1.074\n",
       "Prob(Omnibus):                  0.000   Jarque-Bera (JB):              746.406\n",
       "Skew:                           1.448   Prob(JB):                    8.32e-163\n",
       "Kurtosis:                       8.232   Cond. No.                     1.51e+04\n",
       "==============================================================================\n",
       "\n",
       "Warnings:\n",
       "[1] Standard Errors assume that the covariance matrix of the errors is correctly specified.\n",
       "[2] The condition number is large, 1.51e+04. This might indicate that there are\n",
       "strong multicollinearity or other numerical problems.\n",
       "\"\"\""
      ]
     },
     "execution_count": 53,
     "metadata": {},
     "output_type": "execute_result"
    }
   ],
   "source": [
    "ols.summary()"
   ]
  },
  {
   "cell_type": "code",
   "execution_count": 54,
   "metadata": {},
   "outputs": [
    {
     "data": {
      "text/html": [
       "<table class=\"simpletable\">\n",
       "<caption>OLS Regression Results</caption>\n",
       "<tr>\n",
       "  <th>Dep. Variable:</th>            <td>y</td>        <th>  R-squared:         </th> <td>   0.736</td> \n",
       "</tr>\n",
       "<tr>\n",
       "  <th>Model:</th>                   <td>OLS</td>       <th>  Adj. R-squared:    </th> <td>   0.730</td> \n",
       "</tr>\n",
       "<tr>\n",
       "  <th>Method:</th>             <td>Least Squares</td>  <th>  F-statistic:       </th> <td>   123.7</td> \n",
       "</tr>\n",
       "<tr>\n",
       "  <th>Date:</th>             <td>Thu, 23 Jan 2020</td> <th>  Prob (F-statistic):</th> <td>1.56e-133</td>\n",
       "</tr>\n",
       "<tr>\n",
       "  <th>Time:</th>                 <td>02:35:49</td>     <th>  Log-Likelihood:    </th> <td> -1490.7</td> \n",
       "</tr>\n",
       "<tr>\n",
       "  <th>No. Observations:</th>      <td>   501</td>      <th>  AIC:               </th> <td>   3005.</td> \n",
       "</tr>\n",
       "<tr>\n",
       "  <th>Df Residuals:</th>          <td>   489</td>      <th>  BIC:               </th> <td>   3056.</td> \n",
       "</tr>\n",
       "<tr>\n",
       "  <th>Df Model:</th>              <td>    11</td>      <th>                     </th>     <td> </td>    \n",
       "</tr>\n",
       "<tr>\n",
       "  <th>Covariance Type:</th>      <td>nonrobust</td>    <th>                     </th>     <td> </td>    \n",
       "</tr>\n",
       "</table>\n",
       "<table class=\"simpletable\">\n",
       "<tr>\n",
       "    <td></td>       <th>coef</th>     <th>std err</th>      <th>t</th>      <th>P>|t|</th>  <th>[0.025</th>    <th>0.975]</th>  \n",
       "</tr>\n",
       "<tr>\n",
       "  <th>const</th> <td>   35.8726</td> <td>    5.185</td> <td>    6.919</td> <td> 0.000</td> <td>   25.685</td> <td>   46.060</td>\n",
       "</tr>\n",
       "<tr>\n",
       "  <th>x1</th>    <td>    0.0410</td> <td>    0.014</td> <td>    2.975</td> <td> 0.003</td> <td>    0.014</td> <td>    0.068</td>\n",
       "</tr>\n",
       "<tr>\n",
       "  <th>x2</th>    <td>    2.8422</td> <td>    0.866</td> <td>    3.282</td> <td> 0.001</td> <td>    1.141</td> <td>    4.544</td>\n",
       "</tr>\n",
       "<tr>\n",
       "  <th>x3</th>    <td>  -16.9811</td> <td>    3.733</td> <td>   -4.550</td> <td> 0.000</td> <td>  -24.315</td> <td>   -9.647</td>\n",
       "</tr>\n",
       "<tr>\n",
       "  <th>x4</th>    <td>    3.8028</td> <td>    0.423</td> <td>    9.000</td> <td> 0.000</td> <td>    2.973</td> <td>    4.633</td>\n",
       "</tr>\n",
       "<tr>\n",
       "  <th>x5</th>    <td>    0.0018</td> <td>    0.013</td> <td>    0.133</td> <td> 0.895</td> <td>   -0.025</td> <td>    0.028</td>\n",
       "</tr>\n",
       "<tr>\n",
       "  <th>x6</th>    <td>   -1.4201</td> <td>    0.199</td> <td>   -7.149</td> <td> 0.000</td> <td>   -1.810</td> <td>   -1.030</td>\n",
       "</tr>\n",
       "<tr>\n",
       "  <th>x7</th>    <td>    0.2407</td> <td>    0.062</td> <td>    3.876</td> <td> 0.000</td> <td>    0.119</td> <td>    0.363</td>\n",
       "</tr>\n",
       "<tr>\n",
       "  <th>x8</th>    <td>   -0.0115</td> <td>    0.003</td> <td>   -3.353</td> <td> 0.001</td> <td>   -0.018</td> <td>   -0.005</td>\n",
       "</tr>\n",
       "<tr>\n",
       "  <th>x9</th>    <td>   -0.9510</td> <td>    0.132</td> <td>   -7.183</td> <td> 0.000</td> <td>   -1.211</td> <td>   -0.691</td>\n",
       "</tr>\n",
       "<tr>\n",
       "  <th>x10</th>   <td>    0.0103</td> <td>    0.003</td> <td>    3.828</td> <td> 0.000</td> <td>    0.005</td> <td>    0.016</td>\n",
       "</tr>\n",
       "<tr>\n",
       "  <th>x11</th>   <td>   -0.5481</td> <td>    0.051</td> <td>  -10.795</td> <td> 0.000</td> <td>   -0.648</td> <td>   -0.448</td>\n",
       "</tr>\n",
       "</table>\n",
       "<table class=\"simpletable\">\n",
       "<tr>\n",
       "  <th>Omnibus:</th>       <td>169.124</td> <th>  Durbin-Watson:     </th> <td>   1.074</td> \n",
       "</tr>\n",
       "<tr>\n",
       "  <th>Prob(Omnibus):</th> <td> 0.000</td>  <th>  Jarque-Bera (JB):  </th> <td> 747.388</td> \n",
       "</tr>\n",
       "<tr>\n",
       "  <th>Skew:</th>          <td> 1.448</td>  <th>  Prob(JB):          </th> <td>5.09e-163</td>\n",
       "</tr>\n",
       "<tr>\n",
       "  <th>Kurtosis:</th>      <td> 8.236</td>  <th>  Cond. No.          </th> <td>1.50e+04</td> \n",
       "</tr>\n",
       "</table><br/><br/>Warnings:<br/>[1] Standard Errors assume that the covariance matrix of the errors is correctly specified.<br/>[2] The condition number is large, 1.5e+04. This might indicate that there are<br/>strong multicollinearity or other numerical problems."
      ],
      "text/plain": [
       "<class 'statsmodels.iolib.summary.Summary'>\n",
       "\"\"\"\n",
       "                            OLS Regression Results                            \n",
       "==============================================================================\n",
       "Dep. Variable:                      y   R-squared:                       0.736\n",
       "Model:                            OLS   Adj. R-squared:                  0.730\n",
       "Method:                 Least Squares   F-statistic:                     123.7\n",
       "Date:                Thu, 23 Jan 2020   Prob (F-statistic):          1.56e-133\n",
       "Time:                        02:35:49   Log-Likelihood:                -1490.7\n",
       "No. Observations:                 501   AIC:                             3005.\n",
       "Df Residuals:                     489   BIC:                             3056.\n",
       "Df Model:                          11                                         \n",
       "Covariance Type:            nonrobust                                         \n",
       "==============================================================================\n",
       "                 coef    std err          t      P>|t|      [0.025      0.975]\n",
       "------------------------------------------------------------------------------\n",
       "const         35.8726      5.185      6.919      0.000      25.685      46.060\n",
       "x1             0.0410      0.014      2.975      0.003       0.014       0.068\n",
       "x2             2.8422      0.866      3.282      0.001       1.141       4.544\n",
       "x3           -16.9811      3.733     -4.550      0.000     -24.315      -9.647\n",
       "x4             3.8028      0.423      9.000      0.000       2.973       4.633\n",
       "x5             0.0018      0.013      0.133      0.895      -0.025       0.028\n",
       "x6            -1.4201      0.199     -7.149      0.000      -1.810      -1.030\n",
       "x7             0.2407      0.062      3.876      0.000       0.119       0.363\n",
       "x8            -0.0115      0.003     -3.353      0.001      -0.018      -0.005\n",
       "x9            -0.9510      0.132     -7.183      0.000      -1.211      -0.691\n",
       "x10            0.0103      0.003      3.828      0.000       0.005       0.016\n",
       "x11           -0.5481      0.051    -10.795      0.000      -0.648      -0.448\n",
       "==============================================================================\n",
       "Omnibus:                      169.124   Durbin-Watson:                   1.074\n",
       "Prob(Omnibus):                  0.000   Jarque-Bera (JB):              747.388\n",
       "Skew:                           1.448   Prob(JB):                    5.09e-163\n",
       "Kurtosis:                       8.236   Cond. No.                     1.50e+04\n",
       "==============================================================================\n",
       "\n",
       "Warnings:\n",
       "[1] Standard Errors assume that the covariance matrix of the errors is correctly specified.\n",
       "[2] The condition number is large, 1.5e+04. This might indicate that there are\n",
       "strong multicollinearity or other numerical problems.\n",
       "\"\"\""
      ]
     },
     "execution_count": 54,
     "metadata": {},
     "output_type": "execute_result"
    }
   ],
   "source": [
    "X=X[:,[0,1,3,4,5,6,7,8,9,10,11,12]]\n",
    "ols = sm.OLS(endog=Y,exog=X).fit()\n",
    "ols.summary()"
   ]
  },
  {
   "cell_type": "code",
   "execution_count": 55,
   "metadata": {},
   "outputs": [
    {
     "ename": "IndexError",
     "evalue": "index 12 is out of bounds for axis 1 with size 12",
     "output_type": "error",
     "traceback": [
      "\u001b[1;31m---------------------------------------------------------------------------\u001b[0m",
      "\u001b[1;31mIndexError\u001b[0m                                Traceback (most recent call last)",
      "\u001b[1;32m<ipython-input-55-8be398f8e67e>\u001b[0m in \u001b[0;36m<module>\u001b[1;34m\u001b[0m\n\u001b[1;32m----> 1\u001b[1;33m \u001b[0mX\u001b[0m\u001b[1;33m=\u001b[0m\u001b[0mX\u001b[0m\u001b[1;33m[\u001b[0m\u001b[1;33m:\u001b[0m\u001b[1;33m,\u001b[0m\u001b[1;33m[\u001b[0m\u001b[1;36m0\u001b[0m\u001b[1;33m,\u001b[0m\u001b[1;36m1\u001b[0m\u001b[1;33m,\u001b[0m\u001b[1;36m3\u001b[0m\u001b[1;33m,\u001b[0m\u001b[1;36m4\u001b[0m\u001b[1;33m,\u001b[0m\u001b[1;36m5\u001b[0m\u001b[1;33m,\u001b[0m\u001b[1;36m7\u001b[0m\u001b[1;33m,\u001b[0m\u001b[1;36m8\u001b[0m\u001b[1;33m,\u001b[0m\u001b[1;36m9\u001b[0m\u001b[1;33m,\u001b[0m\u001b[1;36m10\u001b[0m\u001b[1;33m,\u001b[0m\u001b[1;36m11\u001b[0m\u001b[1;33m,\u001b[0m\u001b[1;36m12\u001b[0m\u001b[1;33m]\u001b[0m\u001b[1;33m]\u001b[0m\u001b[1;33m\u001b[0m\u001b[1;33m\u001b[0m\u001b[0m\n\u001b[0m",
      "\u001b[1;31mIndexError\u001b[0m: index 12 is out of bounds for axis 1 with size 12"
     ]
    }
   ],
   "source": [
    "X=X[:,[0,1,3,4,5,7,8,9,10,11,12]]\n"
   ]
  },
  {
   "cell_type": "code",
   "execution_count": 56,
   "metadata": {
    "scrolled": true
   },
   "outputs": [
    {
     "data": {
      "text/html": [
       "<table class=\"simpletable\">\n",
       "<caption>OLS Regression Results</caption>\n",
       "<tr>\n",
       "  <th>Dep. Variable:</th>            <td>y</td>        <th>  R-squared:         </th> <td>   0.736</td> \n",
       "</tr>\n",
       "<tr>\n",
       "  <th>Model:</th>                   <td>OLS</td>       <th>  Adj. R-squared:    </th> <td>   0.730</td> \n",
       "</tr>\n",
       "<tr>\n",
       "  <th>Method:</th>             <td>Least Squares</td>  <th>  F-statistic:       </th> <td>   123.7</td> \n",
       "</tr>\n",
       "<tr>\n",
       "  <th>Date:</th>             <td>Thu, 23 Jan 2020</td> <th>  Prob (F-statistic):</th> <td>1.56e-133</td>\n",
       "</tr>\n",
       "<tr>\n",
       "  <th>Time:</th>                 <td>02:35:51</td>     <th>  Log-Likelihood:    </th> <td> -1490.7</td> \n",
       "</tr>\n",
       "<tr>\n",
       "  <th>No. Observations:</th>      <td>   501</td>      <th>  AIC:               </th> <td>   3005.</td> \n",
       "</tr>\n",
       "<tr>\n",
       "  <th>Df Residuals:</th>          <td>   489</td>      <th>  BIC:               </th> <td>   3056.</td> \n",
       "</tr>\n",
       "<tr>\n",
       "  <th>Df Model:</th>              <td>    11</td>      <th>                     </th>     <td> </td>    \n",
       "</tr>\n",
       "<tr>\n",
       "  <th>Covariance Type:</th>      <td>nonrobust</td>    <th>                     </th>     <td> </td>    \n",
       "</tr>\n",
       "</table>\n",
       "<table class=\"simpletable\">\n",
       "<tr>\n",
       "    <td></td>       <th>coef</th>     <th>std err</th>      <th>t</th>      <th>P>|t|</th>  <th>[0.025</th>    <th>0.975]</th>  \n",
       "</tr>\n",
       "<tr>\n",
       "  <th>const</th> <td>   35.8726</td> <td>    5.185</td> <td>    6.919</td> <td> 0.000</td> <td>   25.685</td> <td>   46.060</td>\n",
       "</tr>\n",
       "<tr>\n",
       "  <th>x1</th>    <td>    0.0410</td> <td>    0.014</td> <td>    2.975</td> <td> 0.003</td> <td>    0.014</td> <td>    0.068</td>\n",
       "</tr>\n",
       "<tr>\n",
       "  <th>x2</th>    <td>    2.8422</td> <td>    0.866</td> <td>    3.282</td> <td> 0.001</td> <td>    1.141</td> <td>    4.544</td>\n",
       "</tr>\n",
       "<tr>\n",
       "  <th>x3</th>    <td>  -16.9811</td> <td>    3.733</td> <td>   -4.550</td> <td> 0.000</td> <td>  -24.315</td> <td>   -9.647</td>\n",
       "</tr>\n",
       "<tr>\n",
       "  <th>x4</th>    <td>    3.8028</td> <td>    0.423</td> <td>    9.000</td> <td> 0.000</td> <td>    2.973</td> <td>    4.633</td>\n",
       "</tr>\n",
       "<tr>\n",
       "  <th>x5</th>    <td>    0.0018</td> <td>    0.013</td> <td>    0.133</td> <td> 0.895</td> <td>   -0.025</td> <td>    0.028</td>\n",
       "</tr>\n",
       "<tr>\n",
       "  <th>x6</th>    <td>   -1.4201</td> <td>    0.199</td> <td>   -7.149</td> <td> 0.000</td> <td>   -1.810</td> <td>   -1.030</td>\n",
       "</tr>\n",
       "<tr>\n",
       "  <th>x7</th>    <td>    0.2407</td> <td>    0.062</td> <td>    3.876</td> <td> 0.000</td> <td>    0.119</td> <td>    0.363</td>\n",
       "</tr>\n",
       "<tr>\n",
       "  <th>x8</th>    <td>   -0.0115</td> <td>    0.003</td> <td>   -3.353</td> <td> 0.001</td> <td>   -0.018</td> <td>   -0.005</td>\n",
       "</tr>\n",
       "<tr>\n",
       "  <th>x9</th>    <td>   -0.9510</td> <td>    0.132</td> <td>   -7.183</td> <td> 0.000</td> <td>   -1.211</td> <td>   -0.691</td>\n",
       "</tr>\n",
       "<tr>\n",
       "  <th>x10</th>   <td>    0.0103</td> <td>    0.003</td> <td>    3.828</td> <td> 0.000</td> <td>    0.005</td> <td>    0.016</td>\n",
       "</tr>\n",
       "<tr>\n",
       "  <th>x11</th>   <td>   -0.5481</td> <td>    0.051</td> <td>  -10.795</td> <td> 0.000</td> <td>   -0.648</td> <td>   -0.448</td>\n",
       "</tr>\n",
       "</table>\n",
       "<table class=\"simpletable\">\n",
       "<tr>\n",
       "  <th>Omnibus:</th>       <td>169.124</td> <th>  Durbin-Watson:     </th> <td>   1.074</td> \n",
       "</tr>\n",
       "<tr>\n",
       "  <th>Prob(Omnibus):</th> <td> 0.000</td>  <th>  Jarque-Bera (JB):  </th> <td> 747.388</td> \n",
       "</tr>\n",
       "<tr>\n",
       "  <th>Skew:</th>          <td> 1.448</td>  <th>  Prob(JB):          </th> <td>5.09e-163</td>\n",
       "</tr>\n",
       "<tr>\n",
       "  <th>Kurtosis:</th>      <td> 8.236</td>  <th>  Cond. No.          </th> <td>1.50e+04</td> \n",
       "</tr>\n",
       "</table><br/><br/>Warnings:<br/>[1] Standard Errors assume that the covariance matrix of the errors is correctly specified.<br/>[2] The condition number is large, 1.5e+04. This might indicate that there are<br/>strong multicollinearity or other numerical problems."
      ],
      "text/plain": [
       "<class 'statsmodels.iolib.summary.Summary'>\n",
       "\"\"\"\n",
       "                            OLS Regression Results                            \n",
       "==============================================================================\n",
       "Dep. Variable:                      y   R-squared:                       0.736\n",
       "Model:                            OLS   Adj. R-squared:                  0.730\n",
       "Method:                 Least Squares   F-statistic:                     123.7\n",
       "Date:                Thu, 23 Jan 2020   Prob (F-statistic):          1.56e-133\n",
       "Time:                        02:35:51   Log-Likelihood:                -1490.7\n",
       "No. Observations:                 501   AIC:                             3005.\n",
       "Df Residuals:                     489   BIC:                             3056.\n",
       "Df Model:                          11                                         \n",
       "Covariance Type:            nonrobust                                         \n",
       "==============================================================================\n",
       "                 coef    std err          t      P>|t|      [0.025      0.975]\n",
       "------------------------------------------------------------------------------\n",
       "const         35.8726      5.185      6.919      0.000      25.685      46.060\n",
       "x1             0.0410      0.014      2.975      0.003       0.014       0.068\n",
       "x2             2.8422      0.866      3.282      0.001       1.141       4.544\n",
       "x3           -16.9811      3.733     -4.550      0.000     -24.315      -9.647\n",
       "x4             3.8028      0.423      9.000      0.000       2.973       4.633\n",
       "x5             0.0018      0.013      0.133      0.895      -0.025       0.028\n",
       "x6            -1.4201      0.199     -7.149      0.000      -1.810      -1.030\n",
       "x7             0.2407      0.062      3.876      0.000       0.119       0.363\n",
       "x8            -0.0115      0.003     -3.353      0.001      -0.018      -0.005\n",
       "x9            -0.9510      0.132     -7.183      0.000      -1.211      -0.691\n",
       "x10            0.0103      0.003      3.828      0.000       0.005       0.016\n",
       "x11           -0.5481      0.051    -10.795      0.000      -0.648      -0.448\n",
       "==============================================================================\n",
       "Omnibus:                      169.124   Durbin-Watson:                   1.074\n",
       "Prob(Omnibus):                  0.000   Jarque-Bera (JB):              747.388\n",
       "Skew:                           1.448   Prob(JB):                    5.09e-163\n",
       "Kurtosis:                       8.236   Cond. No.                     1.50e+04\n",
       "==============================================================================\n",
       "\n",
       "Warnings:\n",
       "[1] Standard Errors assume that the covariance matrix of the errors is correctly specified.\n",
       "[2] The condition number is large, 1.5e+04. This might indicate that there are\n",
       "strong multicollinearity or other numerical problems.\n",
       "\"\"\""
      ]
     },
     "execution_count": 56,
     "metadata": {},
     "output_type": "execute_result"
    }
   ],
   "source": [
    "ols = sm.OLS(endog=Y,exog=X).fit()\n",
    "ols.summary()"
   ]
  },
  {
   "cell_type": "code",
   "execution_count": null,
   "metadata": {},
   "outputs": [],
   "source": []
  },
  {
   "cell_type": "code",
   "execution_count": null,
   "metadata": {},
   "outputs": [],
   "source": []
  },
  {
   "cell_type": "code",
   "execution_count": null,
   "metadata": {},
   "outputs": [],
   "source": []
  }
 ],
 "metadata": {
  "kernelspec": {
   "display_name": "Python 3",
   "language": "python",
   "name": "python3"
  },
  "language_info": {
   "codemirror_mode": {
    "name": "ipython",
    "version": 3
   },
   "file_extension": ".py",
   "mimetype": "text/x-python",
   "name": "python",
   "nbconvert_exporter": "python",
   "pygments_lexer": "ipython3",
   "version": "3.7.2"
  }
 },
 "nbformat": 4,
 "nbformat_minor": 2
}
